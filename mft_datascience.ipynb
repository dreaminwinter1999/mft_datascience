{
  "nbformat": 4,
  "nbformat_minor": 0,
  "metadata": {
    "colab": {
      "provenance": [],
      "gpuType": "T4",
      "collapsed_sections": [
        "6TjXoEPfyHPd",
        "khAHhOcV1o33",
        "P5Ie-71IyUwb",
        "JL5CcqguyoNF"
      ],
      "toc_visible": true
    },
    "kernelspec": {
      "name": "python3",
      "display_name": "Python 3"
    },
    "language_info": {
      "name": "python"
    },
    "accelerator": "GPU"
  },
  "cells": [
    {
      "cell_type": "markdown",
      "source": [
        "**هدف** اصلی این پروژه:\n",
        "شناسایی و تحلیل عوامل کلیدی موثر بر احتمال ابتلا به دیابت\n",
        "\n",
        "\n",
        "با استفاده از تحلیل اکتشافی و\n",
        " مدل سازی اماری در یک دیتاست مرتبط با دیابت"
      ],
      "metadata": {
        "id": "DMl4Mwr00QMH"
      }
    },
    {
      "cell_type": "markdown",
      "source": [
        "به دلیل عدم توازن داده ها, نتایج صد در صد دقیق نیستند."
      ],
      "metadata": {
        "id": "OHePXfTZh1KA"
      }
    },
    {
      "cell_type": "markdown",
      "source": [
        "# **import libraries**"
      ],
      "metadata": {
        "id": "6TjXoEPfyHPd"
      }
    },
    {
      "cell_type": "code",
      "execution_count": null,
      "metadata": {
        "colab": {
          "base_uri": "https://localhost:8080/"
        },
        "id": "PvaPmF50xtG0",
        "outputId": "4f3bf70e-031f-4299-9f51-d8a61f2e0562"
      },
      "outputs": [
        {
          "output_type": "stream",
          "name": "stdout",
          "text": [
            "Mounted at /content/drive\n"
          ]
        }
      ],
      "source": [
        "from google.colab import drive\n",
        "drive.mount(\"/content/drive\")"
      ]
    },
    {
      "cell_type": "code",
      "source": [
        "import pandas as pd\n",
        "import numpy as np\n",
        "import seaborn as sns\n",
        "import matplotlib.pyplot as plt\n",
        "import warnings\n",
        "import statsmodels.api as sm\n",
        "from scipy.stats import chi2_contingency\n",
        "from scipy import stats\n",
        "import statsmodels.api as sm\n",
        "from scipy.stats import mannwhitneyu\n",
        "from imblearn.over_sampling import SMOTE\n",
        "from sklearn.ensemble import RandomForestClassifier\n",
        "from sklearn.model_selection import train_test_split\n",
        "from sklearn.metrics import classification_report, confusion_matrix\n"
      ],
      "metadata": {
        "id": "84uP8PXJx9zP"
      },
      "execution_count": 88,
      "outputs": []
    },
    {
      "cell_type": "code",
      "source": [
        "warnings.filterwarnings(\"ignore\", category=FutureWarning)"
      ],
      "metadata": {
        "id": "qgu16jNJyFlr"
      },
      "execution_count": null,
      "outputs": []
    },
    {
      "cell_type": "markdown",
      "source": [
        "# **Functions**"
      ],
      "metadata": {
        "id": "khAHhOcV1o33"
      }
    },
    {
      "cell_type": "markdown",
      "source": [
        "## pie chart\n"
      ],
      "metadata": {
        "id": "j_uETWUP1te0"
      }
    },
    {
      "cell_type": "code",
      "source": [
        "def plot_pie_chart_from_column(\n",
        "    df,\n",
        "    column_name,\n",
        "    label_map=None,\n",
        "    title=\"Distribution\",\n",
        "    legend_loc='upper center',\n",
        "    colors=None,\n",
        "    startangle=90,\n",
        "    explode=None,\n",
        "    autopct_format='%1.1f%%',\n",
        "    figsize=(8, 8)\n",
        "):\n",
        "\n",
        "    apply_theme()\n",
        "    if column_name not in df.columns:\n",
        "        raise ValueError(f\"Column '{column_name}' not found in DataFrame.\")\n",
        "\n",
        "    value_counts = df[column_name].value_counts()\n",
        "    if label_map is not None:\n",
        "        labels = [label_map.get(value, value) for value in value_counts.index]\n",
        "    else:\n",
        "        labels = value_counts.index\n",
        "\n",
        "    if colors is None:\n",
        "        colors = pastel_colors[:len(value_counts)]\n",
        "\n",
        "        plt.figure(figsize=figsize)\n",
        "    plt.pie(\n",
        "        value_counts,\n",
        "        labels=labels,\n",
        "        colors=colors,\n",
        "        autopct=autopct_format,\n",
        "        startangle=startangle,\n",
        "        explode=explode\n",
        "    )\n",
        "\n",
        "    plt.title(title, fontweight='bold')\n",
        "    plt.tight_layout()\n",
        "    plt.legend(loc='upper right')\n",
        "    plt.show()"
      ],
      "metadata": {
        "id": "WRdY88KI1s7q"
      },
      "execution_count": null,
      "outputs": []
    },
    {
      "cell_type": "markdown",
      "source": [
        "## theme"
      ],
      "metadata": {
        "id": "_neHUWWq13LA"
      }
    },
    {
      "cell_type": "code",
      "source": [
        "def apply_theme():\n",
        "    sns.set(style='whitegrid')  # Set the overall style using Seaborn\n",
        "    plt.rcParams['axes.titlesize'] = 16  # Title font size\n",
        "    plt.rcParams['axes.labelsize'] = 14  # Axis labels font size\n",
        "    plt.rcParams['xtick.labelsize'] = 12  # X-tick labels font size\n",
        "    plt.rcParams['ytick.labelsize'] = 12  # Y-tick labels font size\n",
        "    plt.rcParams['legend.fontsize'] = 12  # Legend font size\n",
        "    plt.rcParams['font.size'] = 12  # General font size\n",
        "    plt.rcParams['axes.facecolor'] = '#FFF0F5'  # Axes background color (Lavender Blush)\n",
        "    plt.rcParams['figure.facecolor'] = 'white'  # Figure background color\n",
        "    plt.rcParams['grid.color'] = '#DDA0DD'  # Grid color (Plum)\n",
        "    plt.rcParams['grid.alpha'] = 0.5  # Grid transparency\n",
        "    plt.rcParams['lines.linewidth'] = 2  # Default line width\n",
        "\n",
        "pastel_colors = [\n",
        "    '#FFB6C1',  # Soft Pink\n",
        "    '#E6E6FA',  # Lavender\n",
        "    '#F08080',  # Light Coral\n",
        "    '#AFEEEE',  # Pale Turquoise\n",
        "    '#FAFAD2',  # Light Goldenrod Yellow\n",
        "    '#FFA07A',  # Light Salmon\n",
        "    '#F5FFFA',  # Mint Cream\n",
        "    '#ADD8E6',  # Light Blue\n",
        "]"
      ],
      "metadata": {
        "id": "8Q4JkH0116Bc"
      },
      "execution_count": null,
      "outputs": []
    },
    {
      "cell_type": "markdown",
      "source": [
        "### **cross table**"
      ],
      "metadata": {
        "id": "nAbmikaD3QzA"
      }
    },
    {
      "cell_type": "markdown",
      "source": [
        "### **target vs numerical box plot**"
      ],
      "metadata": {
        "id": "ryQKwQx23R2o"
      }
    },
    {
      "cell_type": "code",
      "source": [
        "def multivariate_categorical_analysis(df, columns, target_column='diabetes'):\n",
        "    if 'Sex' in columns:\n",
        "        df['Sex'] = df['Sex'].replace({0: 'Female', 1: 'Male'})\n",
        "\n",
        "    crosstab = pd.crosstab([df[col] for col in columns], df[target_column], normalize='index') * 100\n",
        "\n",
        "    ax = crosstab.plot(kind='bar', stacked=True, figsize=(14, 8), colormap='Set2')\n",
        "\n",
        "    ax.set_title(f'Categorical Analysis of {columns} vs {target_column}', fontweight='bold', fontsize=16)\n",
        "    ax.set_ylabel('Percentage (%)', fontsize=12)\n",
        "    ax.set_xlabel('Categories', fontsize=12)\n",
        "    ax.legend(title='Diabetes Status', title_fontsize=12, fontsize=10)\n",
        "\n",
        "    plt.xticks(rotation=45, ha='right', fontsize=10)\n",
        "\n",
        "    for container in ax.containers:\n",
        "        ax.bar_label(container, fmt='%.1f%%', label_type='center', fontsize=9, padding=3)\n",
        "\n",
        "    plt.grid(axis='y', linestyle='--', alpha=0.7)\n",
        "\n",
        "    plt.tight_layout()\n",
        "    plt.show()"
      ],
      "metadata": {
        "id": "BqqNwT1R3V_x"
      },
      "execution_count": null,
      "outputs": []
    },
    {
      "cell_type": "code",
      "source": [
        "def plot_numerical_vs_diabetes_boxplot(df, n_columns, diabetes_column='diabetes'):\n",
        "\n",
        "        plt.figure(figsize=(10, 6))\n",
        "        sns.boxplot(hue=diabetes_column, y=n_columns, data=df, palette='Pastel2')\n",
        "\n",
        "        plt.title(f'Distribution of {n_columns} by Diabetes Status', fontweight='bold')\n",
        "        plt.xlabel('Diabetes Status')\n",
        "        plt.ylabel(n_columns)\n",
        "        plt.grid(axis='y', linestyle='--', alpha=0.7)\n",
        "\n",
        "        plt.tight_layout()\n",
        "        plt.show()"
      ],
      "metadata": {
        "id": "pZ87-kr33b5s"
      },
      "execution_count": null,
      "outputs": []
    },
    {
      "cell_type": "markdown",
      "source": [
        "### **target vs numerical**"
      ],
      "metadata": {
        "id": "-VstIJnI3hh0"
      }
    },
    {
      "cell_type": "code",
      "source": [
        "\n",
        "def categorize_numerical_column(df, column):\n",
        "    if column == 'BMI':\n",
        "        # Define BMI categories\n",
        "        bmi_bins = [0, 18.5, 24.9, 29.9, 34.9, 39.9, 100]  # Bins for underweight, normal, etc.\n",
        "        bmi_labels = ['Underweight', 'Normal', 'Overweight', 'Obesity I', 'Obesity II', 'Obesity III']\n",
        "        df['BMI_Category'] = pd.cut(df[column], bins=bmi_bins, labels=bmi_labels, include_lowest=True)\n",
        "        return 'BMI_Category'\n",
        "    else:\n",
        "        return column  # If the column doesn't need categorization, return it as is\n",
        "\n",
        "\n",
        "def plot_diabetes_in_numerical(df, column, diabetes_column='diabetes'):\n",
        "    # Check if the column needs to be categorized\n",
        "    column_to_use = categorize_numerical_column(df, column)\n",
        "\n",
        "    # Group by the new categorical column and calculate percentages for diabetes, prediabetes, and no diabetes\n",
        "    grouped = df.groupby(column_to_use)[diabetes_column].value_counts(normalize=True).unstack().fillna(0) * 100\n",
        "\n",
        "    # Rename columns for readability\n",
        "    grouped.columns = ['No Diabetes (%)', 'Prediabetes (%)', 'Diabetes (%)']\n",
        "\n",
        "    # Plot the result using pastel colors\n",
        "    pastel_colors = ['#ffb3ba', '#ffffba', '#ffdfba']  # Corrected the color assignment\n",
        "    grouped.plot(kind='bar', stacked=True, figsize=(20, 10), color=pastel_colors)\n",
        "\n",
        "    plt.title(f'Diabetes and Prediabetes by {column} Category', fontweight='bold')\n",
        "    plt.xlabel(f'{column} Category')\n",
        "    plt.ylabel('Percentage (%)')\n",
        "    plt.xticks(rotation=45)\n",
        "    plt.legend(title='Diabetes Status', loc='lower right')\n",
        "    plt.tight_layout()\n",
        "    plt.show()\n",
        "\n"
      ],
      "metadata": {
        "id": "COcJuhgt3ioA"
      },
      "execution_count": null,
      "outputs": []
    },
    {
      "cell_type": "markdown",
      "source": [
        "### **categorical vs target**"
      ],
      "metadata": {
        "id": "_2DZ0Zlb3lRT"
      }
    },
    {
      "cell_type": "code",
      "source": [
        "#  categorical vs target\n",
        "def calculate_condition_vs_diabetes_percentages(df, condition_column, target_column='diabetes'):\n",
        "    # Calculate percentages for individuals with the condition\n",
        "    with_condition_total = len(df[df[condition_column] == 1])\n",
        "    without_condition_total = len(df[df[condition_column] == 0])\n",
        "\n",
        "    with_condition_diabetic = len(df[(df[condition_column] == 1) & (df[target_column] == 2)])\n",
        "    with_condition_prediabetic = len(df[(df[condition_column] == 1) & (df[target_column] == 1)])\n",
        "    with_condition_non_diabetic = len(df[(df[condition_column] == 1) & (df[target_column] == 0)])\n",
        "\n",
        "    without_condition_diabetic = len(df[(df[condition_column] == 0) & (df[target_column] == 2)])\n",
        "    without_condition_prediabetic = len(df[(df[condition_column] == 0) & (df[target_column] == 1)])\n",
        "    without_condition_non_diabetic = len(df[(df[condition_column] == 0) & (df[target_column] == 0)])\n",
        "\n",
        "    # Calculate percentages with the condition\n",
        "    with_condition_diabetic_pct = (with_condition_diabetic / with_condition_total) * 100 if with_condition_total > 0 else 0\n",
        "    with_condition_prediabetic_pct = (with_condition_prediabetic / with_condition_total) * 100 if with_condition_total > 0 else 0\n",
        "    with_condition_non_diabetic_pct = (with_condition_non_diabetic / with_condition_total) * 100 if with_condition_total > 0 else 0\n",
        "\n",
        "    # Calculate percentages without the condition\n",
        "    without_condition_diabetic_pct = (without_condition_diabetic / without_condition_total) * 100 if without_condition_total > 0 else 0\n",
        "    without_condition_prediabetic_pct = (without_condition_prediabetic / without_condition_total) * 100 if without_condition_total > 0 else 0\n",
        "    without_condition_non_diabetic_pct = (without_condition_non_diabetic / without_condition_total) * 100 if without_condition_total > 0 else 0\n",
        "\n",
        "    # Return a dictionary of the calculated percentages\n",
        "    return {\n",
        "        'with_condition': {\n",
        "            'diabetic': with_condition_diabetic_pct,\n",
        "            'prediabetic': with_condition_prediabetic_pct,\n",
        "            'non_diabetic': with_condition_non_diabetic_pct\n",
        "        },\n",
        "        'without_condition': {\n",
        "            'diabetic': without_condition_diabetic_pct,\n",
        "            'prediabetic': without_condition_prediabetic_pct,\n",
        "            'non_diabetic': without_condition_non_diabetic_pct\n",
        "        }\n",
        "    }\n",
        "\n",
        "def plot_condition_vs_diabetes(percentages, condition_column):\n",
        "    # Data for the plots\n",
        "    labels = ['Diabetic', 'Prediabetic', 'Non-Diabetic']\n",
        "\n",
        "    # Values for people with the condition\n",
        "    with_condition_values = [\n",
        "        percentages['with_condition']['diabetic'],\n",
        "        percentages['with_condition']['prediabetic'],\n",
        "        percentages['with_condition']['non_diabetic']\n",
        "    ]\n",
        "\n",
        "    # Values for people without the condition\n",
        "    without_condition_values = [\n",
        "        percentages['without_condition']['diabetic'],\n",
        "        percentages['without_condition']['prediabetic'],\n",
        "        percentages['without_condition']['non_diabetic']\n",
        "    ]\n",
        "\n",
        "    # Create a figure and subplots\n",
        "    fig, ax = plt.subplots(1, 2, figsize=(12, 6))\n",
        "\n",
        "    # Plot for people with the condition (e.g., high BP)\n",
        "    ax[0].bar(labels, with_condition_values, color=['#FF6347', '#FFD700', '#90EE90'])\n",
        "    ax[0].set_title(f'With {condition_column}')\n",
        "    ax[0].set_ylim(0, 100)\n",
        "    ax[0].set_ylabel('Percentage (%)')\n",
        "    for i, v in enumerate(with_condition_values):\n",
        "        ax[0].text(i, v + 1, f\"{v:.2f}%\", ha='center', fontweight='bold')\n",
        "\n",
        "    # Plot for people without the condition\n",
        "    ax[1].bar(labels, without_condition_values, color=['#FF6347', '#FFD700', '#90EE90'])\n",
        "    ax[1].set_title(f'Without {condition_column}')\n",
        "    ax[1].set_ylim(0, 100)\n",
        "    for i, v in enumerate(without_condition_values):\n",
        "        ax[1].text(i, v + 1, f\"{v:.2f}%\", ha='center', fontweight='bold')\n",
        "\n",
        "    # Add overall title and display the plots\n",
        "    plt.suptitle(f'{condition_column} Distribution: With and Without diabetes', fontweight='bold')\n",
        "    plt.tight_layout()\n",
        "    plt.show()\n",
        "\n",
        "# Function to calculate and plot in one step\n",
        "def analyze_condition_vs_diabetes(df, condition_column, target_column='diabetes'):\n",
        "    percentages = calculate_condition_vs_diabetes_percentages(df, condition_column, target_column)\n",
        "    plot_condition_vs_diabetes(percentages, condition_column)\n"
      ],
      "metadata": {
        "id": "cohSy59w3q1r"
      },
      "execution_count": null,
      "outputs": []
    },
    {
      "cell_type": "markdown",
      "source": [
        "### **Target vs Categorical**"
      ],
      "metadata": {
        "id": "B_qerShC3wjp"
      }
    },
    {
      "cell_type": "code",
      "source": [
        "import matplotlib.pyplot as plt\n",
        "\n",
        "def calculate_condition_percentages(df, condition_column, target_column='diabetes'):\n",
        "    # Calculate percentages for diabetic individuals\n",
        "    diabetic_with_condition = len(df[(df[target_column] == 2) & (df[condition_column] == 1)])\n",
        "    diabetic_without_condition = len(df[(df[target_column] == 2) & (df[condition_column] == 0)])\n",
        "    total_diabetic = len(df[df[target_column] == 2])\n",
        "\n",
        "    diabetic_with_condition_pct = (diabetic_with_condition / total_diabetic) * 100 if total_diabetic > 0 else 0\n",
        "    diabetic_without_condition_pct = (diabetic_without_condition / total_diabetic) * 100 if total_diabetic > 0 else 0\n",
        "\n",
        "    # Calculate percentages for prediabetic individuals\n",
        "    prediabetic_with_condition = len(df[(df[target_column] == 1) & (df[condition_column] == 1)])\n",
        "    prediabetic_without_condition = len(df[(df[target_column] == 1) & (df[condition_column] == 0)])\n",
        "    total_prediabetic = len(df[df[target_column] == 1])\n",
        "\n",
        "    prediabetic_with_condition_pct = (prediabetic_with_condition / total_prediabetic) * 100 if total_prediabetic > 0 else 0\n",
        "    prediabetic_without_condition_pct = (prediabetic_without_condition / total_prediabetic) * 100 if total_prediabetic > 0 else 0\n",
        "\n",
        "    # Calculate percentages for non-diabetic individuals\n",
        "    non_diabetic_with_condition = len(df[(df[target_column] == 0) & (df[condition_column] == 1)])\n",
        "    non_diabetic_without_condition = len(df[(df[target_column] == 0) & (df[condition_column] == 0)])\n",
        "    total_non_diabetic = len(df[df[target_column] == 0])\n",
        "\n",
        "    non_diabetic_with_condition_pct = (non_diabetic_with_condition / total_non_diabetic) * 100 if total_non_diabetic > 0 else 0\n",
        "    non_diabetic_without_condition_pct = (non_diabetic_without_condition / total_non_diabetic) * 100 if total_non_diabetic > 0 else 0\n",
        "\n",
        "    # Return a dictionary of the calculated percentages\n",
        "    return {\n",
        "        'diabetic': {\n",
        "            'with_condition': diabetic_with_condition_pct,\n",
        "            'without_condition': diabetic_without_condition_pct\n",
        "        },\n",
        "        'prediabetic': {\n",
        "            'with_condition': prediabetic_with_condition_pct,\n",
        "            'without_condition': prediabetic_without_condition_pct\n",
        "        },\n",
        "        'non_diabetic': {\n",
        "            'with_condition': non_diabetic_with_condition_pct,\n",
        "            'without_condition': non_diabetic_without_condition_pct\n",
        "        }\n",
        "    }\n",
        "\n",
        "def plot_condition_distribution(percentages, condition_column):\n",
        "    # Data for the plots\n",
        "    labels = ['With Condition', 'Without Condition']\n",
        "\n",
        "    diabetic_values = [percentages['diabetic']['with_condition'], percentages['diabetic']['without_condition']]\n",
        "    prediabetic_values = [percentages['prediabetic']['with_condition'], percentages['prediabetic']['without_condition']]\n",
        "    non_diabetic_values = [percentages['non_diabetic']['with_condition'], percentages['non_diabetic']['without_condition']]\n",
        "\n",
        "    # Create a figure and subplots\n",
        "    fig, ax = plt.subplots(1, 3, figsize=(15, 6))\n",
        "\n",
        "    # Plot for diabetic individuals\n",
        "    ax[0].bar(labels, diabetic_values, color=['#FF6347', '#90EE90'])\n",
        "    ax[0].set_title('Diabetic Individuals')\n",
        "    ax[0].set_ylim(0, 100)\n",
        "    ax[0].set_ylabel('Percentage (%)')\n",
        "    for i, v in enumerate(diabetic_values):\n",
        "        ax[0].text(i, v + 1, f\"{v:.2f}%\", ha='center', fontweight='bold')\n",
        "\n",
        "    # Plot for prediabetic individuals\n",
        "    ax[1].bar(labels, prediabetic_values, color=['#FF6347', '#90EE90'])\n",
        "    ax[1].set_title('Prediabetic Individuals')\n",
        "    ax[1].set_ylim(0, 100)\n",
        "    for i, v in enumerate(prediabetic_values):\n",
        "        ax[1].text(i, v + 1, f\"{v:.2f}%\", ha='center', fontweight='bold')\n",
        "\n",
        "    # Plot for non-diabetic individuals\n",
        "    ax[2].bar(labels, non_diabetic_values, color=['#FF6347', '#90EE90'])\n",
        "    ax[2].set_title('Non-Diabetic Individuals')\n",
        "    ax[2].set_ylim(0, 100)\n",
        "    for i, v in enumerate(non_diabetic_values):\n",
        "        ax[2].text(i, v + 1, f\"{v:.2f}%\", ha='center', fontweight='bold')\n",
        "\n",
        "    # Add overall title and display the plots\n",
        "    plt.suptitle(f'{condition_column} Distribution Among Diabetic, Prediabetic, and Non-Diabetic Individuals', fontweight='bold')\n",
        "    plt.tight_layout()\n",
        "    plt.show()\n",
        "\n",
        "# Function to calculate and plot in one step\n",
        "def analyze_diabetes_vs_condition(df, condition_column, target_column='diabetes'):\n",
        "    percentages = calculate_condition_percentages(df, condition_column, target_column)\n",
        "    plot_condition_distribution(percentages, condition_column)\n",
        "\n"
      ],
      "metadata": {
        "id": "ROIaSy2i3xMr"
      },
      "execution_count": null,
      "outputs": []
    },
    {
      "cell_type": "markdown",
      "source": [
        "### **plot_condition_among_diabetics**"
      ],
      "metadata": {
        "id": "oiE0Vl6J3411"
      }
    },
    {
      "cell_type": "code",
      "source": [
        "\n",
        "def plot_condition_among_diabetics(df, categorical_column, target_column='diabetes'):\n",
        "    total_condition = len(df[df[categorical_column] == 1])\n",
        "    num_diabetes_condition = len(df[(df[target_column] == 2) & (df[categorical_column] == 1)])\n",
        "    num_prediabetes_condition = len(df[(df[target_column] == 1) & (df[categorical_column] == 1)])\n",
        "\n",
        "    # Calculate the percentages based on the total with the condition\n",
        "    diabetes_percentage = (num_diabetes_condition / total_condition) * 100 if total_condition > 0 else 0\n",
        "    prediabetes_percentage = (num_prediabetes_condition / total_condition) * 100 if total_condition > 0 else 0\n",
        "    labels = ['Diabetes', 'Prediabetes']\n",
        "    percentages = [diabetes_percentage, prediabetes_percentage]\n",
        "\n",
        "    # Plot\n",
        "    plt.figure(figsize=(8, 5))\n",
        "    plt.bar(labels, percentages, color=['#FF6347', '#FFD700'])\n",
        "    plt.ylim(0, 100)\n",
        "    plt.title(f'Percentage of Diabetes and Prediabetes among Individuals in {categorical_column}', fontweight='bold')\n",
        "    plt.ylabel('Percentage (%)')\n",
        "\n",
        "\n",
        "    for i, percentage in enumerate(percentages):\n",
        "        plt.text(i, percentage + 2, f'{percentage:.2f}%', ha='center')\n",
        "\n",
        "    plt.grid(axis='y', linestyle='--', alpha=0.7)\n",
        "    plt.tight_layout()\n",
        "    plt.show()"
      ],
      "metadata": {
        "id": "qjTcVtPr36IU"
      },
      "execution_count": null,
      "outputs": []
    },
    {
      "cell_type": "markdown",
      "source": [
        "### hist for numericals"
      ],
      "metadata": {
        "id": "zDL0vEY43-Wi"
      }
    },
    {
      "cell_type": "code",
      "source": [
        "def plot_histogram(df, column_name, bins=30, title=None):\n",
        "\n",
        "    if column_name not in df.columns:\n",
        "        raise ValueError(f\"Column '{column_name}' does not exist in the DataFrame.\")\n",
        "\n",
        "    plt.figure(figsize=(10, 6))\n",
        "    df[column_name].hist(bins=bins, edgecolor='black')\n",
        "    plt.title(title or f'Distribution of {column_name}', fontweight='bold')\n",
        "    plt.xlabel(column_name)\n",
        "    plt.ylabel('Frequency')\n",
        "    plt.grid(axis='y', linestyle='--', alpha=0.7)\n",
        "    plt.show()\n",
        "\n",
        "\n",
        "def plot_histograms_for_numerical_features(df, bins=30):\n",
        "    numerical_cols = df.select_dtypes(include=['int64', 'float64']).columns\n",
        "\n",
        "    for column in numerical_cols:\n",
        "        plot_histogram(df, column, bins=bins)\n",
        "\n"
      ],
      "metadata": {
        "id": "fWnDPFrD34Dt"
      },
      "execution_count": null,
      "outputs": []
    },
    {
      "cell_type": "markdown",
      "source": [
        "### diabetes relations with other factors"
      ],
      "metadata": {
        "id": "YkS6SSV44Bty"
      }
    },
    {
      "cell_type": "code",
      "source": [
        "# diabetes problems\n",
        "def condition_among_diabetics_and_prediabetics(df, column_name):\n",
        "    \"\"\"\n",
        "    Calculates the percentage of diabetic and prediabetic individuals with a specific condition\n",
        "    and visualizes it as a bar plot.\n",
        "\n",
        "    Parameters:\n",
        "    - df: DataFrame containing the dataset\n",
        "    - column_name: The column representing the condition (e.g., 'HighBP')\n",
        "    \"\"\"\n",
        "    # Calculate the percentage for diabetics and prediabetics\n",
        "    num_diabetics_with_condition = len(df[(df['diabetes'] == 2) & (df[column_name] == 1)])\n",
        "    num_prediabetics_with_condition = len(df[(df['diabetes'] == 1) & (df[column_name] == 1)])\n",
        "\n",
        "    num_diabetics = len(df[df['diabetes'] == 2])\n",
        "    num_prediabetics = len(df[df['diabetes'] == 1])\n",
        "\n",
        "    # Handle division by zero if no diabetics or prediabetics are found\n",
        "    if num_diabetics == 0:\n",
        "        diabetic_percentage = 0\n",
        "    else:\n",
        "        diabetic_percentage = (num_diabetics_with_condition / num_diabetics) * 100\n",
        "\n",
        "    if num_prediabetics == 0:\n",
        "        prediabetic_percentage = 0\n",
        "    else:\n",
        "        prediabetic_percentage = (num_prediabetics_with_condition / num_prediabetics) * 100\n",
        "\n",
        "    # Visualization\n",
        "    labels = ['Diabetics', 'Prediabetics']\n",
        "    values = [diabetic_percentage, prediabetic_percentage]\n",
        "    colors = ['#FF69B4', '#FFD1DC']  # Girly colors for the plot\n",
        "\n",
        "    fig, ax = plt.subplots(figsize=(8, 6))\n",
        "    ax.bar(labels, values, color=colors)\n",
        "\n",
        "    # Add title and labels\n",
        "    ax.set_title(f'Percentage of Diabetics and Prediabetics in {column_name}', fontsize=14, fontweight='bold')\n",
        "    ax.set_ylabel('Percentage')\n",
        "\n",
        "    # Add percentage labels on bars\n",
        "    for i, v in enumerate(values):\n",
        "        ax.text(i, v + 1, f\"{v:.2f}%\", ha='center', fontsize=12)\n",
        "\n",
        "    plt.show()\n",
        "\n"
      ],
      "metadata": {
        "id": "0BFuwELG4EPw"
      },
      "execution_count": null,
      "outputs": []
    },
    {
      "cell_type": "code",
      "source": [
        "\n",
        "def diabetes_among_condition(df, column_name):\n",
        "\n",
        "    # Calculate the number of people with the condition who are diabetic or prediabetic\n",
        "    condition_with_diabetes = len(df[(df[column_name] == 1) & (df['diabetes'] == 2)])\n",
        "    condition_with_prediabetes = len(df[(df[column_name] == 1) & (df['diabetes'] == 1)])\n",
        "\n",
        "    # Calculate the total number of people with the condition\n",
        "    total_with_condition = len(df[df[column_name] == 1])\n",
        "\n",
        "    if total_with_condition == 0:\n",
        "        return 0, 0\n",
        "\n",
        "    # Calculate percentages\n",
        "    diabetes_percentage = (condition_with_diabetes / total_with_condition) * 100\n",
        "    prediabetes_percentage = (condition_with_prediabetes / total_with_condition) * 100\n",
        "\n",
        "    # Plot the results\n",
        "    conditions = ['Diabetes', 'Prediabetes']\n",
        "    percentages = [diabetes_percentage, prediabetes_percentage]\n",
        "\n",
        "    plt.bar(conditions, percentages, color=['#FF69B4', '#FFD700'])\n",
        "    plt.title(f'Percentage of People in {column_name} who have Diabetes or Prediabetes')\n",
        "    plt.ylabel('Percentage')\n",
        "    plt.ylim(0, 100)\n",
        "\n",
        "    # Add percentage labels on top of bars\n",
        "    for i, v in enumerate(percentages):\n",
        "        plt.text(i, v + 1, f'{v:.2f}%', ha='center', fontweight='bold')\n",
        "\n",
        "    plt.show()\n",
        "\n",
        "    return diabetes_percentage, prediabetes_percentage\n"
      ],
      "metadata": {
        "id": "sKiaQIe94G2J"
      },
      "execution_count": null,
      "outputs": []
    },
    {
      "cell_type": "markdown",
      "source": [
        "# **load dataset**"
      ],
      "metadata": {
        "id": "P5Ie-71IyUwb"
      }
    },
    {
      "cell_type": "code",
      "source": [
        "df = pd.read_csv('drive/MyDrive/Colab_Notebooks/diabetes_data.csv')"
      ],
      "metadata": {
        "id": "VbBVlsEfyGNk"
      },
      "execution_count": null,
      "outputs": []
    },
    {
      "cell_type": "code",
      "source": [
        "df.head()"
      ],
      "metadata": {
        "colab": {
          "base_uri": "https://localhost:8080/"
        },
        "id": "5Le-dtdGycxH",
        "outputId": "3ad261bb-8e72-408d-cf0a-a65e95c61bd7"
      },
      "execution_count": null,
      "outputs": [
        {
          "output_type": "execute_result",
          "data": {
            "text/plain": [
              "   Diabetes_012  HighBP  HighChol  CholCheck   BMI  Smoker  Stroke  \\\n",
              "0           0.0     1.0       1.0        1.0  40.0     1.0     0.0   \n",
              "1           0.0     0.0       0.0        0.0  25.0     1.0     0.0   \n",
              "2           0.0     1.0       1.0        1.0  28.0     0.0     0.0   \n",
              "3           0.0     1.0       0.0        1.0  27.0     0.0     0.0   \n",
              "4           0.0     1.0       1.0        1.0  24.0     0.0     0.0   \n",
              "\n",
              "   HeartDiseaseorAttack  PhysActivity  Fruits  ...  AnyHealthcare  \\\n",
              "0                   0.0           0.0     0.0  ...            1.0   \n",
              "1                   0.0           1.0     0.0  ...            0.0   \n",
              "2                   0.0           0.0     1.0  ...            1.0   \n",
              "3                   0.0           1.0     1.0  ...            1.0   \n",
              "4                   0.0           1.0     1.0  ...            1.0   \n",
              "\n",
              "   NoDocbcCost  GenHlth  MentHlth  PhysHlth  DiffWalk  Sex   Age  Education  \\\n",
              "0          0.0      5.0      18.0      15.0       1.0  0.0   9.0        4.0   \n",
              "1          1.0      3.0       0.0       0.0       0.0  0.0   7.0        6.0   \n",
              "2          1.0      5.0      30.0      30.0       1.0  0.0   9.0        4.0   \n",
              "3          0.0      2.0       0.0       0.0       0.0  0.0  11.0        3.0   \n",
              "4          0.0      2.0       3.0       0.0       0.0  0.0  11.0        5.0   \n",
              "\n",
              "   Income  \n",
              "0     3.0  \n",
              "1     1.0  \n",
              "2     8.0  \n",
              "3     6.0  \n",
              "4     4.0  \n",
              "\n",
              "[5 rows x 22 columns]"
            ],
            "text/html": [
              "\n",
              "  <div id=\"df-3c596e42-92ec-48ab-9593-171743f57558\" class=\"colab-df-container\">\n",
              "    <div>\n",
              "<style scoped>\n",
              "    .dataframe tbody tr th:only-of-type {\n",
              "        vertical-align: middle;\n",
              "    }\n",
              "\n",
              "    .dataframe tbody tr th {\n",
              "        vertical-align: top;\n",
              "    }\n",
              "\n",
              "    .dataframe thead th {\n",
              "        text-align: right;\n",
              "    }\n",
              "</style>\n",
              "<table border=\"1\" class=\"dataframe\">\n",
              "  <thead>\n",
              "    <tr style=\"text-align: right;\">\n",
              "      <th></th>\n",
              "      <th>Diabetes_012</th>\n",
              "      <th>HighBP</th>\n",
              "      <th>HighChol</th>\n",
              "      <th>CholCheck</th>\n",
              "      <th>BMI</th>\n",
              "      <th>Smoker</th>\n",
              "      <th>Stroke</th>\n",
              "      <th>HeartDiseaseorAttack</th>\n",
              "      <th>PhysActivity</th>\n",
              "      <th>Fruits</th>\n",
              "      <th>...</th>\n",
              "      <th>AnyHealthcare</th>\n",
              "      <th>NoDocbcCost</th>\n",
              "      <th>GenHlth</th>\n",
              "      <th>MentHlth</th>\n",
              "      <th>PhysHlth</th>\n",
              "      <th>DiffWalk</th>\n",
              "      <th>Sex</th>\n",
              "      <th>Age</th>\n",
              "      <th>Education</th>\n",
              "      <th>Income</th>\n",
              "    </tr>\n",
              "  </thead>\n",
              "  <tbody>\n",
              "    <tr>\n",
              "      <th>0</th>\n",
              "      <td>0.0</td>\n",
              "      <td>1.0</td>\n",
              "      <td>1.0</td>\n",
              "      <td>1.0</td>\n",
              "      <td>40.0</td>\n",
              "      <td>1.0</td>\n",
              "      <td>0.0</td>\n",
              "      <td>0.0</td>\n",
              "      <td>0.0</td>\n",
              "      <td>0.0</td>\n",
              "      <td>...</td>\n",
              "      <td>1.0</td>\n",
              "      <td>0.0</td>\n",
              "      <td>5.0</td>\n",
              "      <td>18.0</td>\n",
              "      <td>15.0</td>\n",
              "      <td>1.0</td>\n",
              "      <td>0.0</td>\n",
              "      <td>9.0</td>\n",
              "      <td>4.0</td>\n",
              "      <td>3.0</td>\n",
              "    </tr>\n",
              "    <tr>\n",
              "      <th>1</th>\n",
              "      <td>0.0</td>\n",
              "      <td>0.0</td>\n",
              "      <td>0.0</td>\n",
              "      <td>0.0</td>\n",
              "      <td>25.0</td>\n",
              "      <td>1.0</td>\n",
              "      <td>0.0</td>\n",
              "      <td>0.0</td>\n",
              "      <td>1.0</td>\n",
              "      <td>0.0</td>\n",
              "      <td>...</td>\n",
              "      <td>0.0</td>\n",
              "      <td>1.0</td>\n",
              "      <td>3.0</td>\n",
              "      <td>0.0</td>\n",
              "      <td>0.0</td>\n",
              "      <td>0.0</td>\n",
              "      <td>0.0</td>\n",
              "      <td>7.0</td>\n",
              "      <td>6.0</td>\n",
              "      <td>1.0</td>\n",
              "    </tr>\n",
              "    <tr>\n",
              "      <th>2</th>\n",
              "      <td>0.0</td>\n",
              "      <td>1.0</td>\n",
              "      <td>1.0</td>\n",
              "      <td>1.0</td>\n",
              "      <td>28.0</td>\n",
              "      <td>0.0</td>\n",
              "      <td>0.0</td>\n",
              "      <td>0.0</td>\n",
              "      <td>0.0</td>\n",
              "      <td>1.0</td>\n",
              "      <td>...</td>\n",
              "      <td>1.0</td>\n",
              "      <td>1.0</td>\n",
              "      <td>5.0</td>\n",
              "      <td>30.0</td>\n",
              "      <td>30.0</td>\n",
              "      <td>1.0</td>\n",
              "      <td>0.0</td>\n",
              "      <td>9.0</td>\n",
              "      <td>4.0</td>\n",
              "      <td>8.0</td>\n",
              "    </tr>\n",
              "    <tr>\n",
              "      <th>3</th>\n",
              "      <td>0.0</td>\n",
              "      <td>1.0</td>\n",
              "      <td>0.0</td>\n",
              "      <td>1.0</td>\n",
              "      <td>27.0</td>\n",
              "      <td>0.0</td>\n",
              "      <td>0.0</td>\n",
              "      <td>0.0</td>\n",
              "      <td>1.0</td>\n",
              "      <td>1.0</td>\n",
              "      <td>...</td>\n",
              "      <td>1.0</td>\n",
              "      <td>0.0</td>\n",
              "      <td>2.0</td>\n",
              "      <td>0.0</td>\n",
              "      <td>0.0</td>\n",
              "      <td>0.0</td>\n",
              "      <td>0.0</td>\n",
              "      <td>11.0</td>\n",
              "      <td>3.0</td>\n",
              "      <td>6.0</td>\n",
              "    </tr>\n",
              "    <tr>\n",
              "      <th>4</th>\n",
              "      <td>0.0</td>\n",
              "      <td>1.0</td>\n",
              "      <td>1.0</td>\n",
              "      <td>1.0</td>\n",
              "      <td>24.0</td>\n",
              "      <td>0.0</td>\n",
              "      <td>0.0</td>\n",
              "      <td>0.0</td>\n",
              "      <td>1.0</td>\n",
              "      <td>1.0</td>\n",
              "      <td>...</td>\n",
              "      <td>1.0</td>\n",
              "      <td>0.0</td>\n",
              "      <td>2.0</td>\n",
              "      <td>3.0</td>\n",
              "      <td>0.0</td>\n",
              "      <td>0.0</td>\n",
              "      <td>0.0</td>\n",
              "      <td>11.0</td>\n",
              "      <td>5.0</td>\n",
              "      <td>4.0</td>\n",
              "    </tr>\n",
              "  </tbody>\n",
              "</table>\n",
              "<p>5 rows × 22 columns</p>\n",
              "</div>\n",
              "    <div class=\"colab-df-buttons\">\n",
              "\n",
              "  <div class=\"colab-df-container\">\n",
              "    <button class=\"colab-df-convert\" onclick=\"convertToInteractive('df-3c596e42-92ec-48ab-9593-171743f57558')\"\n",
              "            title=\"Convert this dataframe to an interactive table.\"\n",
              "            style=\"display:none;\">\n",
              "\n",
              "  <svg xmlns=\"http://www.w3.org/2000/svg\" height=\"24px\" viewBox=\"0 -960 960 960\">\n",
              "    <path d=\"M120-120v-720h720v720H120Zm60-500h600v-160H180v160Zm220 220h160v-160H400v160Zm0 220h160v-160H400v160ZM180-400h160v-160H180v160Zm440 0h160v-160H620v160ZM180-180h160v-160H180v160Zm440 0h160v-160H620v160Z\"/>\n",
              "  </svg>\n",
              "    </button>\n",
              "\n",
              "  <style>\n",
              "    .colab-df-container {\n",
              "      display:flex;\n",
              "      gap: 12px;\n",
              "    }\n",
              "\n",
              "    .colab-df-convert {\n",
              "      background-color: #E8F0FE;\n",
              "      border: none;\n",
              "      border-radius: 50%;\n",
              "      cursor: pointer;\n",
              "      display: none;\n",
              "      fill: #1967D2;\n",
              "      height: 32px;\n",
              "      padding: 0 0 0 0;\n",
              "      width: 32px;\n",
              "    }\n",
              "\n",
              "    .colab-df-convert:hover {\n",
              "      background-color: #E2EBFA;\n",
              "      box-shadow: 0px 1px 2px rgba(60, 64, 67, 0.3), 0px 1px 3px 1px rgba(60, 64, 67, 0.15);\n",
              "      fill: #174EA6;\n",
              "    }\n",
              "\n",
              "    .colab-df-buttons div {\n",
              "      margin-bottom: 4px;\n",
              "    }\n",
              "\n",
              "    [theme=dark] .colab-df-convert {\n",
              "      background-color: #3B4455;\n",
              "      fill: #D2E3FC;\n",
              "    }\n",
              "\n",
              "    [theme=dark] .colab-df-convert:hover {\n",
              "      background-color: #434B5C;\n",
              "      box-shadow: 0px 1px 3px 1px rgba(0, 0, 0, 0.15);\n",
              "      filter: drop-shadow(0px 1px 2px rgba(0, 0, 0, 0.3));\n",
              "      fill: #FFFFFF;\n",
              "    }\n",
              "  </style>\n",
              "\n",
              "    <script>\n",
              "      const buttonEl =\n",
              "        document.querySelector('#df-3c596e42-92ec-48ab-9593-171743f57558 button.colab-df-convert');\n",
              "      buttonEl.style.display =\n",
              "        google.colab.kernel.accessAllowed ? 'block' : 'none';\n",
              "\n",
              "      async function convertToInteractive(key) {\n",
              "        const element = document.querySelector('#df-3c596e42-92ec-48ab-9593-171743f57558');\n",
              "        const dataTable =\n",
              "          await google.colab.kernel.invokeFunction('convertToInteractive',\n",
              "                                                    [key], {});\n",
              "        if (!dataTable) return;\n",
              "\n",
              "        const docLinkHtml = 'Like what you see? Visit the ' +\n",
              "          '<a target=\"_blank\" href=https://colab.research.google.com/notebooks/data_table.ipynb>data table notebook</a>'\n",
              "          + ' to learn more about interactive tables.';\n",
              "        element.innerHTML = '';\n",
              "        dataTable['output_type'] = 'display_data';\n",
              "        await google.colab.output.renderOutput(dataTable, element);\n",
              "        const docLink = document.createElement('div');\n",
              "        docLink.innerHTML = docLinkHtml;\n",
              "        element.appendChild(docLink);\n",
              "      }\n",
              "    </script>\n",
              "  </div>\n",
              "\n",
              "\n",
              "<div id=\"df-e77979fe-794b-465e-8bdc-af6ecf9cc38a\">\n",
              "  <button class=\"colab-df-quickchart\" onclick=\"quickchart('df-e77979fe-794b-465e-8bdc-af6ecf9cc38a')\"\n",
              "            title=\"Suggest charts\"\n",
              "            style=\"display:none;\">\n",
              "\n",
              "<svg xmlns=\"http://www.w3.org/2000/svg\" height=\"24px\"viewBox=\"0 0 24 24\"\n",
              "     width=\"24px\">\n",
              "    <g>\n",
              "        <path d=\"M19 3H5c-1.1 0-2 .9-2 2v14c0 1.1.9 2 2 2h14c1.1 0 2-.9 2-2V5c0-1.1-.9-2-2-2zM9 17H7v-7h2v7zm4 0h-2V7h2v10zm4 0h-2v-4h2v4z\"/>\n",
              "    </g>\n",
              "</svg>\n",
              "  </button>\n",
              "\n",
              "<style>\n",
              "  .colab-df-quickchart {\n",
              "      --bg-color: #E8F0FE;\n",
              "      --fill-color: #1967D2;\n",
              "      --hover-bg-color: #E2EBFA;\n",
              "      --hover-fill-color: #174EA6;\n",
              "      --disabled-fill-color: #AAA;\n",
              "      --disabled-bg-color: #DDD;\n",
              "  }\n",
              "\n",
              "  [theme=dark] .colab-df-quickchart {\n",
              "      --bg-color: #3B4455;\n",
              "      --fill-color: #D2E3FC;\n",
              "      --hover-bg-color: #434B5C;\n",
              "      --hover-fill-color: #FFFFFF;\n",
              "      --disabled-bg-color: #3B4455;\n",
              "      --disabled-fill-color: #666;\n",
              "  }\n",
              "\n",
              "  .colab-df-quickchart {\n",
              "    background-color: var(--bg-color);\n",
              "    border: none;\n",
              "    border-radius: 50%;\n",
              "    cursor: pointer;\n",
              "    display: none;\n",
              "    fill: var(--fill-color);\n",
              "    height: 32px;\n",
              "    padding: 0;\n",
              "    width: 32px;\n",
              "  }\n",
              "\n",
              "  .colab-df-quickchart:hover {\n",
              "    background-color: var(--hover-bg-color);\n",
              "    box-shadow: 0 1px 2px rgba(60, 64, 67, 0.3), 0 1px 3px 1px rgba(60, 64, 67, 0.15);\n",
              "    fill: var(--button-hover-fill-color);\n",
              "  }\n",
              "\n",
              "  .colab-df-quickchart-complete:disabled,\n",
              "  .colab-df-quickchart-complete:disabled:hover {\n",
              "    background-color: var(--disabled-bg-color);\n",
              "    fill: var(--disabled-fill-color);\n",
              "    box-shadow: none;\n",
              "  }\n",
              "\n",
              "  .colab-df-spinner {\n",
              "    border: 2px solid var(--fill-color);\n",
              "    border-color: transparent;\n",
              "    border-bottom-color: var(--fill-color);\n",
              "    animation:\n",
              "      spin 1s steps(1) infinite;\n",
              "  }\n",
              "\n",
              "  @keyframes spin {\n",
              "    0% {\n",
              "      border-color: transparent;\n",
              "      border-bottom-color: var(--fill-color);\n",
              "      border-left-color: var(--fill-color);\n",
              "    }\n",
              "    20% {\n",
              "      border-color: transparent;\n",
              "      border-left-color: var(--fill-color);\n",
              "      border-top-color: var(--fill-color);\n",
              "    }\n",
              "    30% {\n",
              "      border-color: transparent;\n",
              "      border-left-color: var(--fill-color);\n",
              "      border-top-color: var(--fill-color);\n",
              "      border-right-color: var(--fill-color);\n",
              "    }\n",
              "    40% {\n",
              "      border-color: transparent;\n",
              "      border-right-color: var(--fill-color);\n",
              "      border-top-color: var(--fill-color);\n",
              "    }\n",
              "    60% {\n",
              "      border-color: transparent;\n",
              "      border-right-color: var(--fill-color);\n",
              "    }\n",
              "    80% {\n",
              "      border-color: transparent;\n",
              "      border-right-color: var(--fill-color);\n",
              "      border-bottom-color: var(--fill-color);\n",
              "    }\n",
              "    90% {\n",
              "      border-color: transparent;\n",
              "      border-bottom-color: var(--fill-color);\n",
              "    }\n",
              "  }\n",
              "</style>\n",
              "\n",
              "  <script>\n",
              "    async function quickchart(key) {\n",
              "      const quickchartButtonEl =\n",
              "        document.querySelector('#' + key + ' button');\n",
              "      quickchartButtonEl.disabled = true;  // To prevent multiple clicks.\n",
              "      quickchartButtonEl.classList.add('colab-df-spinner');\n",
              "      try {\n",
              "        const charts = await google.colab.kernel.invokeFunction(\n",
              "            'suggestCharts', [key], {});\n",
              "      } catch (error) {\n",
              "        console.error('Error during call to suggestCharts:', error);\n",
              "      }\n",
              "      quickchartButtonEl.classList.remove('colab-df-spinner');\n",
              "      quickchartButtonEl.classList.add('colab-df-quickchart-complete');\n",
              "    }\n",
              "    (() => {\n",
              "      let quickchartButtonEl =\n",
              "        document.querySelector('#df-e77979fe-794b-465e-8bdc-af6ecf9cc38a button');\n",
              "      quickchartButtonEl.style.display =\n",
              "        google.colab.kernel.accessAllowed ? 'block' : 'none';\n",
              "    })();\n",
              "  </script>\n",
              "</div>\n",
              "    </div>\n",
              "  </div>\n"
            ],
            "application/vnd.google.colaboratory.intrinsic+json": {
              "type": "dataframe",
              "variable_name": "df"
            }
          },
          "metadata": {},
          "execution_count": 32
        }
      ]
    },
    {
      "cell_type": "code",
      "source": [
        "df.info()"
      ],
      "metadata": {
        "colab": {
          "base_uri": "https://localhost:8080/"
        },
        "id": "DcDB4QEgydQL",
        "outputId": "bba0ee0c-8a59-41d9-a881-0273fb4fd99a"
      },
      "execution_count": null,
      "outputs": [
        {
          "output_type": "stream",
          "name": "stdout",
          "text": [
            "<class 'pandas.core.frame.DataFrame'>\n",
            "RangeIndex: 253680 entries, 0 to 253679\n",
            "Data columns (total 22 columns):\n",
            " #   Column                Non-Null Count   Dtype  \n",
            "---  ------                --------------   -----  \n",
            " 0   Diabetes_012          253680 non-null  float64\n",
            " 1   HighBP                253680 non-null  float64\n",
            " 2   HighChol              253680 non-null  float64\n",
            " 3   CholCheck             253680 non-null  float64\n",
            " 4   BMI                   253680 non-null  float64\n",
            " 5   Smoker                253680 non-null  float64\n",
            " 6   Stroke                253680 non-null  float64\n",
            " 7   HeartDiseaseorAttack  253680 non-null  float64\n",
            " 8   PhysActivity          253680 non-null  float64\n",
            " 9   Fruits                253680 non-null  float64\n",
            " 10  Veggies               253680 non-null  float64\n",
            " 11  HvyAlcoholConsump     253680 non-null  float64\n",
            " 12  AnyHealthcare         253680 non-null  float64\n",
            " 13  NoDocbcCost           253680 non-null  float64\n",
            " 14  GenHlth               253680 non-null  float64\n",
            " 15  MentHlth              253680 non-null  float64\n",
            " 16  PhysHlth              253680 non-null  float64\n",
            " 17  DiffWalk              253680 non-null  float64\n",
            " 18  Sex                   253680 non-null  float64\n",
            " 19  Age                   253680 non-null  float64\n",
            " 20  Education             253680 non-null  float64\n",
            " 21  Income                253680 non-null  float64\n",
            "dtypes: float64(22)\n",
            "memory usage: 42.6 MB\n"
          ]
        }
      ]
    },
    {
      "cell_type": "code",
      "source": [
        "df.columns"
      ],
      "metadata": {
        "colab": {
          "base_uri": "https://localhost:8080/"
        },
        "id": "zhNNIxOJyfRs",
        "outputId": "19ffe00d-0c26-482e-cfc9-50dfc2c0e097"
      },
      "execution_count": null,
      "outputs": [
        {
          "output_type": "execute_result",
          "data": {
            "text/plain": [
              "Index(['Diabetes_012', 'HighBP', 'HighChol', 'CholCheck', 'BMI', 'Smoker',\n",
              "       'Stroke', 'HeartDiseaseorAttack', 'PhysActivity', 'Fruits', 'Veggies',\n",
              "       'HvyAlcoholConsump', 'AnyHealthcare', 'NoDocbcCost', 'GenHlth',\n",
              "       'MentHlth', 'PhysHlth', 'DiffWalk', 'Sex', 'Age', 'Education',\n",
              "       'Income'],\n",
              "      dtype='object')"
            ]
          },
          "metadata": {},
          "execution_count": 34
        }
      ]
    },
    {
      "cell_type": "code",
      "source": [
        "df.dtypes"
      ],
      "metadata": {
        "colab": {
          "base_uri": "https://localhost:8080/"
        },
        "id": "c5vRCN9Lyjde",
        "outputId": "90f4fa93-696f-4f85-b66b-c789a8363d4b"
      },
      "execution_count": null,
      "outputs": [
        {
          "output_type": "execute_result",
          "data": {
            "text/plain": [
              "Diabetes_012            float64\n",
              "HighBP                  float64\n",
              "HighChol                float64\n",
              "CholCheck               float64\n",
              "BMI                     float64\n",
              "Smoker                  float64\n",
              "Stroke                  float64\n",
              "HeartDiseaseorAttack    float64\n",
              "PhysActivity            float64\n",
              "Fruits                  float64\n",
              "Veggies                 float64\n",
              "HvyAlcoholConsump       float64\n",
              "AnyHealthcare           float64\n",
              "NoDocbcCost             float64\n",
              "GenHlth                 float64\n",
              "MentHlth                float64\n",
              "PhysHlth                float64\n",
              "DiffWalk                float64\n",
              "Sex                     float64\n",
              "Age                     float64\n",
              "Education               float64\n",
              "Income                  float64\n",
              "dtype: object"
            ],
            "text/html": [
              "<div>\n",
              "<style scoped>\n",
              "    .dataframe tbody tr th:only-of-type {\n",
              "        vertical-align: middle;\n",
              "    }\n",
              "\n",
              "    .dataframe tbody tr th {\n",
              "        vertical-align: top;\n",
              "    }\n",
              "\n",
              "    .dataframe thead th {\n",
              "        text-align: right;\n",
              "    }\n",
              "</style>\n",
              "<table border=\"1\" class=\"dataframe\">\n",
              "  <thead>\n",
              "    <tr style=\"text-align: right;\">\n",
              "      <th></th>\n",
              "      <th>0</th>\n",
              "    </tr>\n",
              "  </thead>\n",
              "  <tbody>\n",
              "    <tr>\n",
              "      <th>Diabetes_012</th>\n",
              "      <td>float64</td>\n",
              "    </tr>\n",
              "    <tr>\n",
              "      <th>HighBP</th>\n",
              "      <td>float64</td>\n",
              "    </tr>\n",
              "    <tr>\n",
              "      <th>HighChol</th>\n",
              "      <td>float64</td>\n",
              "    </tr>\n",
              "    <tr>\n",
              "      <th>CholCheck</th>\n",
              "      <td>float64</td>\n",
              "    </tr>\n",
              "    <tr>\n",
              "      <th>BMI</th>\n",
              "      <td>float64</td>\n",
              "    </tr>\n",
              "    <tr>\n",
              "      <th>Smoker</th>\n",
              "      <td>float64</td>\n",
              "    </tr>\n",
              "    <tr>\n",
              "      <th>Stroke</th>\n",
              "      <td>float64</td>\n",
              "    </tr>\n",
              "    <tr>\n",
              "      <th>HeartDiseaseorAttack</th>\n",
              "      <td>float64</td>\n",
              "    </tr>\n",
              "    <tr>\n",
              "      <th>PhysActivity</th>\n",
              "      <td>float64</td>\n",
              "    </tr>\n",
              "    <tr>\n",
              "      <th>Fruits</th>\n",
              "      <td>float64</td>\n",
              "    </tr>\n",
              "    <tr>\n",
              "      <th>Veggies</th>\n",
              "      <td>float64</td>\n",
              "    </tr>\n",
              "    <tr>\n",
              "      <th>HvyAlcoholConsump</th>\n",
              "      <td>float64</td>\n",
              "    </tr>\n",
              "    <tr>\n",
              "      <th>AnyHealthcare</th>\n",
              "      <td>float64</td>\n",
              "    </tr>\n",
              "    <tr>\n",
              "      <th>NoDocbcCost</th>\n",
              "      <td>float64</td>\n",
              "    </tr>\n",
              "    <tr>\n",
              "      <th>GenHlth</th>\n",
              "      <td>float64</td>\n",
              "    </tr>\n",
              "    <tr>\n",
              "      <th>MentHlth</th>\n",
              "      <td>float64</td>\n",
              "    </tr>\n",
              "    <tr>\n",
              "      <th>PhysHlth</th>\n",
              "      <td>float64</td>\n",
              "    </tr>\n",
              "    <tr>\n",
              "      <th>DiffWalk</th>\n",
              "      <td>float64</td>\n",
              "    </tr>\n",
              "    <tr>\n",
              "      <th>Sex</th>\n",
              "      <td>float64</td>\n",
              "    </tr>\n",
              "    <tr>\n",
              "      <th>Age</th>\n",
              "      <td>float64</td>\n",
              "    </tr>\n",
              "    <tr>\n",
              "      <th>Education</th>\n",
              "      <td>float64</td>\n",
              "    </tr>\n",
              "    <tr>\n",
              "      <th>Income</th>\n",
              "      <td>float64</td>\n",
              "    </tr>\n",
              "  </tbody>\n",
              "</table>\n",
              "</div><br><label><b>dtype:</b> object</label>"
            ]
          },
          "metadata": {},
          "execution_count": 35
        }
      ]
    },
    {
      "cell_type": "markdown",
      "source": [
        "# **data cleaning**"
      ],
      "metadata": {
        "id": "JL5CcqguyoNF"
      }
    },
    {
      "cell_type": "markdown",
      "source": [
        "دیتای گمشده در دیتاست نبود.\n",
        "\n",
        "دیتاهای تکراری حذف شدند.\n",
        "\n",
        "سه ستون بدلیل بی ربط بودن به هدف پروژه حذف شدند.\n",
        "\n",
        "اسم ستون دیابت تغییر داده شد.\n",
        "\n",
        "تایپ دیتاهایی که بصورت باینری بودن/ گروه بندی شده بودند به کتگوری تغییر داده شد."
      ],
      "metadata": {
        "id": "_DHNEP2azJz_"
      }
    },
    {
      "cell_type": "code",
      "source": [
        "df.isna().sum()"
      ],
      "metadata": {
        "colab": {
          "base_uri": "https://localhost:8080/"
        },
        "id": "tPUuw4Yoyta5",
        "outputId": "5bcb3a4d-8fca-4a2b-f1a7-ff82685990fa"
      },
      "execution_count": null,
      "outputs": [
        {
          "output_type": "execute_result",
          "data": {
            "text/plain": [
              "Diabetes_012            0\n",
              "HighBP                  0\n",
              "HighChol                0\n",
              "CholCheck               0\n",
              "BMI                     0\n",
              "Smoker                  0\n",
              "Stroke                  0\n",
              "HeartDiseaseorAttack    0\n",
              "PhysActivity            0\n",
              "Fruits                  0\n",
              "Veggies                 0\n",
              "HvyAlcoholConsump       0\n",
              "AnyHealthcare           0\n",
              "NoDocbcCost             0\n",
              "GenHlth                 0\n",
              "MentHlth                0\n",
              "PhysHlth                0\n",
              "DiffWalk                0\n",
              "Sex                     0\n",
              "Age                     0\n",
              "Education               0\n",
              "Income                  0\n",
              "dtype: int64"
            ],
            "text/html": [
              "<div>\n",
              "<style scoped>\n",
              "    .dataframe tbody tr th:only-of-type {\n",
              "        vertical-align: middle;\n",
              "    }\n",
              "\n",
              "    .dataframe tbody tr th {\n",
              "        vertical-align: top;\n",
              "    }\n",
              "\n",
              "    .dataframe thead th {\n",
              "        text-align: right;\n",
              "    }\n",
              "</style>\n",
              "<table border=\"1\" class=\"dataframe\">\n",
              "  <thead>\n",
              "    <tr style=\"text-align: right;\">\n",
              "      <th></th>\n",
              "      <th>0</th>\n",
              "    </tr>\n",
              "  </thead>\n",
              "  <tbody>\n",
              "    <tr>\n",
              "      <th>Diabetes_012</th>\n",
              "      <td>0</td>\n",
              "    </tr>\n",
              "    <tr>\n",
              "      <th>HighBP</th>\n",
              "      <td>0</td>\n",
              "    </tr>\n",
              "    <tr>\n",
              "      <th>HighChol</th>\n",
              "      <td>0</td>\n",
              "    </tr>\n",
              "    <tr>\n",
              "      <th>CholCheck</th>\n",
              "      <td>0</td>\n",
              "    </tr>\n",
              "    <tr>\n",
              "      <th>BMI</th>\n",
              "      <td>0</td>\n",
              "    </tr>\n",
              "    <tr>\n",
              "      <th>Smoker</th>\n",
              "      <td>0</td>\n",
              "    </tr>\n",
              "    <tr>\n",
              "      <th>Stroke</th>\n",
              "      <td>0</td>\n",
              "    </tr>\n",
              "    <tr>\n",
              "      <th>HeartDiseaseorAttack</th>\n",
              "      <td>0</td>\n",
              "    </tr>\n",
              "    <tr>\n",
              "      <th>PhysActivity</th>\n",
              "      <td>0</td>\n",
              "    </tr>\n",
              "    <tr>\n",
              "      <th>Fruits</th>\n",
              "      <td>0</td>\n",
              "    </tr>\n",
              "    <tr>\n",
              "      <th>Veggies</th>\n",
              "      <td>0</td>\n",
              "    </tr>\n",
              "    <tr>\n",
              "      <th>HvyAlcoholConsump</th>\n",
              "      <td>0</td>\n",
              "    </tr>\n",
              "    <tr>\n",
              "      <th>AnyHealthcare</th>\n",
              "      <td>0</td>\n",
              "    </tr>\n",
              "    <tr>\n",
              "      <th>NoDocbcCost</th>\n",
              "      <td>0</td>\n",
              "    </tr>\n",
              "    <tr>\n",
              "      <th>GenHlth</th>\n",
              "      <td>0</td>\n",
              "    </tr>\n",
              "    <tr>\n",
              "      <th>MentHlth</th>\n",
              "      <td>0</td>\n",
              "    </tr>\n",
              "    <tr>\n",
              "      <th>PhysHlth</th>\n",
              "      <td>0</td>\n",
              "    </tr>\n",
              "    <tr>\n",
              "      <th>DiffWalk</th>\n",
              "      <td>0</td>\n",
              "    </tr>\n",
              "    <tr>\n",
              "      <th>Sex</th>\n",
              "      <td>0</td>\n",
              "    </tr>\n",
              "    <tr>\n",
              "      <th>Age</th>\n",
              "      <td>0</td>\n",
              "    </tr>\n",
              "    <tr>\n",
              "      <th>Education</th>\n",
              "      <td>0</td>\n",
              "    </tr>\n",
              "    <tr>\n",
              "      <th>Income</th>\n",
              "      <td>0</td>\n",
              "    </tr>\n",
              "  </tbody>\n",
              "</table>\n",
              "</div><br><label><b>dtype:</b> int64</label>"
            ]
          },
          "metadata": {},
          "execution_count": 36
        }
      ]
    },
    {
      "cell_type": "code",
      "source": [
        "df.isnull().sum()"
      ],
      "metadata": {
        "colab": {
          "base_uri": "https://localhost:8080/"
        },
        "id": "N49ArCc8yxpp",
        "outputId": "8089285b-b400-4934-ea97-e5bda27ede4d"
      },
      "execution_count": null,
      "outputs": [
        {
          "output_type": "execute_result",
          "data": {
            "text/plain": [
              "Diabetes_012            0\n",
              "HighBP                  0\n",
              "HighChol                0\n",
              "CholCheck               0\n",
              "BMI                     0\n",
              "Smoker                  0\n",
              "Stroke                  0\n",
              "HeartDiseaseorAttack    0\n",
              "PhysActivity            0\n",
              "Fruits                  0\n",
              "Veggies                 0\n",
              "HvyAlcoholConsump       0\n",
              "AnyHealthcare           0\n",
              "NoDocbcCost             0\n",
              "GenHlth                 0\n",
              "MentHlth                0\n",
              "PhysHlth                0\n",
              "DiffWalk                0\n",
              "Sex                     0\n",
              "Age                     0\n",
              "Education               0\n",
              "Income                  0\n",
              "dtype: int64"
            ],
            "text/html": [
              "<div>\n",
              "<style scoped>\n",
              "    .dataframe tbody tr th:only-of-type {\n",
              "        vertical-align: middle;\n",
              "    }\n",
              "\n",
              "    .dataframe tbody tr th {\n",
              "        vertical-align: top;\n",
              "    }\n",
              "\n",
              "    .dataframe thead th {\n",
              "        text-align: right;\n",
              "    }\n",
              "</style>\n",
              "<table border=\"1\" class=\"dataframe\">\n",
              "  <thead>\n",
              "    <tr style=\"text-align: right;\">\n",
              "      <th></th>\n",
              "      <th>0</th>\n",
              "    </tr>\n",
              "  </thead>\n",
              "  <tbody>\n",
              "    <tr>\n",
              "      <th>Diabetes_012</th>\n",
              "      <td>0</td>\n",
              "    </tr>\n",
              "    <tr>\n",
              "      <th>HighBP</th>\n",
              "      <td>0</td>\n",
              "    </tr>\n",
              "    <tr>\n",
              "      <th>HighChol</th>\n",
              "      <td>0</td>\n",
              "    </tr>\n",
              "    <tr>\n",
              "      <th>CholCheck</th>\n",
              "      <td>0</td>\n",
              "    </tr>\n",
              "    <tr>\n",
              "      <th>BMI</th>\n",
              "      <td>0</td>\n",
              "    </tr>\n",
              "    <tr>\n",
              "      <th>Smoker</th>\n",
              "      <td>0</td>\n",
              "    </tr>\n",
              "    <tr>\n",
              "      <th>Stroke</th>\n",
              "      <td>0</td>\n",
              "    </tr>\n",
              "    <tr>\n",
              "      <th>HeartDiseaseorAttack</th>\n",
              "      <td>0</td>\n",
              "    </tr>\n",
              "    <tr>\n",
              "      <th>PhysActivity</th>\n",
              "      <td>0</td>\n",
              "    </tr>\n",
              "    <tr>\n",
              "      <th>Fruits</th>\n",
              "      <td>0</td>\n",
              "    </tr>\n",
              "    <tr>\n",
              "      <th>Veggies</th>\n",
              "      <td>0</td>\n",
              "    </tr>\n",
              "    <tr>\n",
              "      <th>HvyAlcoholConsump</th>\n",
              "      <td>0</td>\n",
              "    </tr>\n",
              "    <tr>\n",
              "      <th>AnyHealthcare</th>\n",
              "      <td>0</td>\n",
              "    </tr>\n",
              "    <tr>\n",
              "      <th>NoDocbcCost</th>\n",
              "      <td>0</td>\n",
              "    </tr>\n",
              "    <tr>\n",
              "      <th>GenHlth</th>\n",
              "      <td>0</td>\n",
              "    </tr>\n",
              "    <tr>\n",
              "      <th>MentHlth</th>\n",
              "      <td>0</td>\n",
              "    </tr>\n",
              "    <tr>\n",
              "      <th>PhysHlth</th>\n",
              "      <td>0</td>\n",
              "    </tr>\n",
              "    <tr>\n",
              "      <th>DiffWalk</th>\n",
              "      <td>0</td>\n",
              "    </tr>\n",
              "    <tr>\n",
              "      <th>Sex</th>\n",
              "      <td>0</td>\n",
              "    </tr>\n",
              "    <tr>\n",
              "      <th>Age</th>\n",
              "      <td>0</td>\n",
              "    </tr>\n",
              "    <tr>\n",
              "      <th>Education</th>\n",
              "      <td>0</td>\n",
              "    </tr>\n",
              "    <tr>\n",
              "      <th>Income</th>\n",
              "      <td>0</td>\n",
              "    </tr>\n",
              "  </tbody>\n",
              "</table>\n",
              "</div><br><label><b>dtype:</b> int64</label>"
            ]
          },
          "metadata": {},
          "execution_count": 37
        }
      ]
    },
    {
      "cell_type": "code",
      "source": [
        "df.shape"
      ],
      "metadata": {
        "colab": {
          "base_uri": "https://localhost:8080/"
        },
        "id": "LLKsRuicy2wf",
        "outputId": "27a5cfd5-4a85-414e-c08c-ee23a4679ed3"
      },
      "execution_count": null,
      "outputs": [
        {
          "output_type": "execute_result",
          "data": {
            "text/plain": [
              "(253680, 22)"
            ]
          },
          "metadata": {},
          "execution_count": 38
        }
      ]
    },
    {
      "cell_type": "code",
      "source": [
        "df.duplicated().sum()"
      ],
      "metadata": {
        "colab": {
          "base_uri": "https://localhost:8080/"
        },
        "id": "Vo850E-fy0KU",
        "outputId": "27941c09-5bd8-4ec0-917f-b30aad6823cc"
      },
      "execution_count": null,
      "outputs": [
        {
          "output_type": "execute_result",
          "data": {
            "text/plain": [
              "23899"
            ]
          },
          "metadata": {},
          "execution_count": 39
        }
      ]
    },
    {
      "cell_type": "code",
      "source": [
        "df.drop_duplicates(inplace=True)\n",
        "df.shape"
      ],
      "metadata": {
        "colab": {
          "base_uri": "https://localhost:8080/"
        },
        "id": "IuIXSxvsy4s8",
        "outputId": "049e43da-81cc-4f81-ac01-c85ed60928a6"
      },
      "execution_count": null,
      "outputs": [
        {
          "output_type": "execute_result",
          "data": {
            "text/plain": [
              "(229781, 22)"
            ]
          },
          "metadata": {},
          "execution_count": 40
        }
      ]
    },
    {
      "cell_type": "code",
      "source": [
        "df.drop(['NoDocbcCost'], axis=1, inplace=True)\n",
        "df.drop(['CholCheck'], axis=1, inplace=True)\n",
        "df.drop(['AnyHealthcare'], axis=1, inplace=True)\n",
        "\n"
      ],
      "metadata": {
        "id": "3Qv0-QAGy-sR"
      },
      "execution_count": null,
      "outputs": []
    },
    {
      "cell_type": "code",
      "source": [
        "df = df.rename(columns={'Diabetes_012' : 'diabetes'})"
      ],
      "metadata": {
        "id": "MdWdDfjmzCHg"
      },
      "execution_count": null,
      "outputs": []
    },
    {
      "cell_type": "code",
      "source": [
        "categorical_cols = [\n",
        "    'diabetes', 'HighBP', 'HighChol', 'Smoker',\n",
        "    'Stroke', 'HeartDiseaseorAttack', 'PhysActivity', 'Fruits',\n",
        "    'Veggies', 'HvyAlcoholConsump',\n",
        "    'GenHlth', 'DiffWalk', 'Sex', 'Education', 'Income'\n",
        "]\n",
        "\n",
        "for col in categorical_cols:\n",
        "    df[col] = df[col].astype('category')\n",
        "\n",
        "print(df.dtypes)"
      ],
      "metadata": {
        "colab": {
          "base_uri": "https://localhost:8080/"
        },
        "id": "_Wud-U3SzGJj",
        "outputId": "2539825e-b6d1-4b06-9911-09a807c55c90"
      },
      "execution_count": null,
      "outputs": [
        {
          "output_type": "stream",
          "name": "stdout",
          "text": [
            "diabetes                category\n",
            "HighBP                  category\n",
            "HighChol                category\n",
            "BMI                      float64\n",
            "Smoker                  category\n",
            "Stroke                  category\n",
            "HeartDiseaseorAttack    category\n",
            "PhysActivity            category\n",
            "Fruits                  category\n",
            "Veggies                 category\n",
            "HvyAlcoholConsump       category\n",
            "GenHlth                 category\n",
            "MentHlth                 float64\n",
            "PhysHlth                 float64\n",
            "DiffWalk                category\n",
            "Sex                     category\n",
            "Age                      float64\n",
            "Education               category\n",
            "Income                  category\n",
            "dtype: object\n"
          ]
        }
      ]
    },
    {
      "cell_type": "markdown",
      "source": [
        "# EDA"
      ],
      "metadata": {
        "id": "roMlEZAa0-C2"
      }
    },
    {
      "cell_type": "markdown",
      "source": [
        "## **توزیع داده دیابت**"
      ],
      "metadata": {
        "id": "gzSeBcbB1bc3"
      }
    },
    {
      "cell_type": "code",
      "source": [
        "diabetes_title = f'Distribution of diabetes'\n",
        "plot_pie_chart_from_column(df, 'diabetes', title=diabetes_title)\n",
        "# 0 = non diabetics\n",
        "# 1 = pre diabetics\n",
        "# 2 = diabetics"
      ],
      "metadata": {
        "colab": {
          "base_uri": "https://localhost:8080/",
          "height": 667
        },
        "id": "dL97wsEH1Bjl",
        "outputId": "0d9afc14-da05-42a2-fc28-8fe45efafc25"
      },
      "execution_count": null,
      "outputs": [
        {
          "output_type": "display_data",
          "data": {
            "text/plain": [
              "<Figure size 800x800 with 1 Axes>"
            ],
            "image/png": "[encoded data removed]"
          },
          "metadata": {}
        }
      ]
    },
    {
      "cell_type": "markdown",
      "source": [
        "## دیابت و سن"
      ],
      "metadata": {
        "id": "fPRgZ1j9_1We"
      }
    },
    {
      "cell_type": "code",
      "source": [
        "plot_histogram(df, 'Age', bins=30, title=None)"
      ],
      "metadata": {
        "colab": {
          "base_uri": "https://localhost:8080/",
          "height": 564
        },
        "id": "KwOBvZtkeBfv",
        "outputId": "28f176b6-adcf-40ba-d2b1-4956a6ab272d"
      },
      "execution_count": null,
      "outputs": [
        {
          "output_type": "display_data",
          "data": {
            "text/plain": [
              "<Figure size 1000x600 with 1 Axes>"
            ],
            "image/png": "[encoded data removed]"
          },
          "metadata": {}
        }
      ]
    },
    {
      "cell_type": "code",
      "source": [
        "plot_diabetes_in_numerical(df, 'Age')"
      ],
      "metadata": {
        "colab": {
          "base_uri": "https://localhost:8080/",
          "height": 329
        },
        "id": "eHTsmVI22rDn",
        "outputId": "f8b41eab-7936-43ed-c1b5-04ad82d13515"
      },
      "execution_count": null,
      "outputs": [
        {
          "output_type": "display_data",
          "data": {
            "text/plain": [
              "<Figure size 2000x1000 with 1 Axes>"
            ],
            "image/png": "[encoded data removed]"
          },
          "metadata": {}
        }
      ]
    },
    {
      "cell_type": "code",
      "source": [
        "mean_age_by_diabetes = df.groupby('diabetes')['Age'].mean()\n",
        "\n",
        "print(mean_age_by_diabetes)\n",
        "\n",
        "plt.figure(figsize=(8,6))\n",
        "plt.plot(mean_age_by_diabetes.index, mean_age_by_diabetes, marker='o', linestyle='-', color='pink', label='Mean Age')\n",
        "plt.title('Mean Age for Diabetes Categories', fontsize=14)\n",
        "plt.xlabel('Diabetes Category', fontsize=12)\n",
        "plt.ylabel('Mean Age', fontsize=12)\n",
        "plt.xticks(ticks=[0, 1, 2], labels=['No Diabetes', 'Pre-Diabetes', 'Diabetes'])\n",
        "plt.legend()\n",
        "plt.show()"
      ],
      "metadata": {
        "id": "B7ybYWzB4cmq",
        "colab": {
          "base_uri": "https://localhost:8080/",
          "height": 658
        },
        "outputId": "66b11140-14b5-4ab5-fef2-248341a07b32"
      },
      "execution_count": null,
      "outputs": [
        {
          "output_type": "stream",
          "name": "stdout",
          "text": [
            "diabetes\n",
            "0.0    7.824230\n",
            "1.0    9.082091\n",
            "2.0    9.375958\n",
            "Name: Age, dtype: float64\n"
          ]
        },
        {
          "output_type": "display_data",
          "data": {
            "text/plain": [
              "<Figure size 800x600 with 1 Axes>"
            ],
            "image/png": "[encoded data removed]"
          },
          "metadata": {}
        }
      ]
    },
    {
      "cell_type": "code",
      "source": [
        "age_diabetes_corr = df['Age'].corr(df['diabetes'])\n",
        "print(age_diabetes_corr)\n"
      ],
      "metadata": {
        "id": "xLuAAjBR4e3w",
        "colab": {
          "base_uri": "https://localhost:8080/"
        },
        "outputId": "7a9edee3-f7d0-4be9-c9c9-69d599a4e158"
      },
      "execution_count": null,
      "outputs": [
        {
          "output_type": "stream",
          "name": "stdout",
          "text": [
            "0.18464157162258393\n"
          ]
        }
      ]
    },
    {
      "cell_type": "markdown",
      "source": [
        "همبستگی مستقیم ضعیفی بین دیابت و سن وجود دارد. با افزایش سن احتمال ابتلا به دیابت کمی بیشتر میشود.\n"
      ],
      "metadata": {
        "id": "T4ZSwfVU4h7F"
      }
    },
    {
      "cell_type": "markdown",
      "source": [
        "## دیابت و جنسیت"
      ],
      "metadata": {
        "id": "CGZfYKgD_4S5"
      }
    },
    {
      "cell_type": "code",
      "source": [
        "gender_title = f'Distribution of gender'\n",
        "plot_pie_chart_from_column(df, 'Sex', title=gender_title)\n",
        "# 0 = female\n",
        "# 1 = male"
      ],
      "metadata": {
        "id": "h462Uxht_-rD",
        "colab": {
          "base_uri": "https://localhost:8080/",
          "height": 801
        },
        "outputId": "e23e3400-bd31-443c-9893-b7749916242b"
      },
      "execution_count": null,
      "outputs": [
        {
          "output_type": "display_data",
          "data": {
            "text/plain": [
              "<Figure size 800x800 with 1 Axes>"
            ],
            "image/png": "[encoded data removed]"
          },
          "metadata": {}
        }
      ]
    },
    {
      "cell_type": "markdown",
      "source": [
        "### دیابت در خانم ها شایع تر هست یا اقایون؟"
      ],
      "metadata": {
        "id": "hN-nw9wSACcr"
      }
    },
    {
      "cell_type": "markdown",
      "source": [
        "چون تعداد خانم ها در دیتاست بیشتر از اقایون هست به اشتباه در پلات تعداد  خانم های مبتلا به دیابت بیشتر از اقایون مبتلا به دیابت میباشد.  "
      ],
      "metadata": {
        "id": "aeWNgBAYAHgn"
      }
    },
    {
      "cell_type": "code",
      "source": [
        "female_diabetes = df[df['diabetes'] == 2][df['Sex'] == 0]\n",
        "male_diabetes = df[df['diabetes'] == 2][df['Sex'] == 1]\n",
        "\n",
        "print(len(female_diabetes), len(male_diabetes))\n",
        "\n"
      ],
      "metadata": {
        "colab": {
          "base_uri": "https://localhost:8080/"
        },
        "id": "8nWBOINafWPp",
        "outputId": "7b15273f-71d8-4e12-8419-304a4a4abd60"
      },
      "execution_count": null,
      "outputs": [
        {
          "output_type": "stream",
          "name": "stdout",
          "text": [
            "18345 16752\n"
          ]
        },
        {
          "output_type": "stream",
          "name": "stderr",
          "text": [
            "<ipython-input-61-1a8d4771e3fc>:1: UserWarning: Boolean Series key will be reindexed to match DataFrame index.\n",
            "  female_diabetes = df[df['diabetes'] == 2][df['Sex'] == 0]\n",
            "<ipython-input-61-1a8d4771e3fc>:2: UserWarning: Boolean Series key will be reindexed to match DataFrame index.\n",
            "  male_diabetes = df[df['diabetes'] == 2][df['Sex'] == 1]\n"
          ]
        }
      ]
    },
    {
      "cell_type": "markdown",
      "source": [
        "### جواب درست"
      ],
      "metadata": {
        "id": "_V6khlqWAMM1"
      }
    },
    {
      "cell_type": "code",
      "source": [
        "male_diabetes = df[(df['diabetes'] == 2) & (df['Sex'] == 1)]\n",
        "total_male_diabetes = len(male_diabetes)\n",
        "\n",
        "len_male = len(df[df['Sex'] == 1])\n",
        "\n",
        "female_diabetes = df[(df['diabetes'] == 2) & (df['Sex'] == 0)]\n",
        "total_female_diabetes = len(female_diabetes)\n",
        "\n",
        "len_female = len(df[df['Sex'] == 0])\n",
        "\n",
        "male_pre_diabetes = df[(df['diabetes'] == 1) & (df['Sex'] == 1)]\n",
        "total_male_pre_diabetes = len(male_pre_diabetes)\n",
        "\n",
        "female_pre_diabetes = df[(df['diabetes'] == 1) & (df['Sex'] == 0)]\n",
        "total_female_pre_diabetes = len(female_pre_diabetes)\n",
        "\n",
        "percent_male_diabetes = (total_male_diabetes / len_male) * 100\n",
        "percent_female_diabetes = (total_female_diabetes / len_female) * 100\n",
        "\n",
        "percent_male_pre_diabetes = (total_male_pre_diabetes / len_male) * 100\n",
        "percent_female_pre_diabetes = (total_female_pre_diabetes / len_female) * 100\n",
        "\n",
        "print(\"درصد مردان مبتلا به دیابت:\", percent_male_diabetes)\n",
        "print(\"درصد زنان مبتلا به دیابت:\", percent_female_diabetes)\n",
        "print(\"درصد مردان پیش‌دیابتی:\", percent_male_pre_diabetes)\n",
        "print(\"درصد زنان پیش‌دیابتی:\", percent_female_pre_diabetes)\n",
        "\n",
        "labels = ['Male Diabetes', 'Female Diabetes', 'Male Pre-Diabetes', 'Female Pre-Diabetes']\n",
        "percentages = [percent_male_diabetes, percent_female_diabetes, percent_male_pre_diabetes, percent_female_pre_diabetes]\n",
        "\n",
        "plt.figure(figsize=(10, 6))\n",
        "plt.bar(labels, percentages, color=['blue', 'pink', 'blue', 'pink'])\n",
        "plt.title('Percentage of Diabetes and Pre-Diabetes by Gender')\n",
        "plt.ylabel('Percentage')\n",
        "plt.xlabel('Gender Groups')\n",
        "plt.show()\n",
        "\n"
      ],
      "metadata": {
        "id": "kOqNXNanALe2",
        "colab": {
          "base_uri": "https://localhost:8080/",
          "height": 650
        },
        "outputId": "705b07b2-977b-44ec-8cc2-4efa8b69a060"
      },
      "execution_count": null,
      "outputs": [
        {
          "output_type": "stream",
          "name": "stdout",
          "text": [
            "درصد مردان مبتلا به دیابت: 16.59813528589971\n",
            "درصد زنان مبتلا به دیابت: 14.237043475561489\n",
            "درصد مردان پیش‌دیابتی: 2.0064006658277767\n",
            "درصد زنان پیش‌دیابتی: 2.020891862107501\n"
          ]
        },
        {
          "output_type": "display_data",
          "data": {
            "text/plain": [
              "<Figure size 1000x600 with 1 Axes>"
            ],
            "image/png": "[encoded data removed]"
          },
          "metadata": {}
        }
      ]
    },
    {
      "cell_type": "code",
      "source": [
        "\n",
        "sex_crosstab = pd.crosstab(df['Sex'], df['diabetes'])\n",
        "\n",
        "chi2, p, dof, expected = stats.chi2_contingency(sex_crosstab)\n",
        "\n",
        "print('Chi-square:', chi2)\n",
        "print('p-value:', p)\n",
        "print('Degrees of freedom:', dof)\n",
        "print('Expected frequencies:', expected)\n",
        "\n",
        "if p < 0.05:\n",
        "    print(\"ارتباط معناداری بین جنسیت و دیابت وجود دارد.\")\n",
        "else:\n",
        "    print(\"ارتباط معناداری بین جنسیت و دیابت وجود ندارد.\")\n"
      ],
      "metadata": {
        "colab": {
          "base_uri": "https://localhost:8080/"
        },
        "id": "rHjkx0m3hJKH",
        "outputId": "88e71aad-fbc1-4fe5-f51b-3a6184a43f47"
      },
      "execution_count": null,
      "outputs": [
        {
          "output_type": "stream",
          "name": "stdout",
          "text": [
            "Chi-square: 244.30546543583293\n",
            "p-value: 8.907221068357717e-54\n",
            "Degrees of freedom: 2\n",
            "Expected frequencies: [[106576.9013539    2595.79846027  19681.30018583]\n",
            " [ 83478.0986461    2033.20153973  15415.69981417]]\n",
            "ارتباط معناداری بین جنسیت و دیابت وجود دارد.\n"
          ]
        }
      ]
    },
    {
      "cell_type": "markdown",
      "source": [
        "دیابت بین مردها رایج تر میباشد."
      ],
      "metadata": {
        "id": "EviQva8SATij"
      }
    },
    {
      "cell_type": "markdown",
      "source": [
        "## فشار خون"
      ],
      "metadata": {
        "id": "36bpOZKW4oWh"
      }
    },
    {
      "cell_type": "code",
      "source": [
        "bp_title = 'Distribution of high blood pressure'\n",
        "plot_pie_chart_from_column(df, 'HighBP', title=bp_title)"
      ],
      "metadata": {
        "colab": {
          "base_uri": "https://localhost:8080/",
          "height": 667
        },
        "id": "7BsJYu5i4ndy",
        "outputId": "5c429009-ddfe-4f0d-b321-a1ee00fe9022"
      },
      "execution_count": null,
      "outputs": [
        {
          "output_type": "display_data",
          "data": {
            "text/plain": [
              "<Figure size 800x800 with 1 Axes>"
            ],
            "image/png": "[encoded data removed]"
          },
          "metadata": {}
        }
      ]
    },
    {
      "cell_type": "markdown",
      "source": [
        "## فشار خون و دیابت"
      ],
      "metadata": {
        "id": "xW3CTxTx40ls"
      }
    },
    {
      "cell_type": "code",
      "source": [
        "analyze_diabetes_vs_condition(df, 'HighBP')"
      ],
      "metadata": {
        "id": "F3lknEMT41Hp",
        "colab": {
          "base_uri": "https://localhost:8080/",
          "height": 540
        },
        "outputId": "ca6103ef-e9ff-47c6-f90b-ee96c1835745"
      },
      "execution_count": null,
      "outputs": [
        {
          "output_type": "display_data",
          "data": {
            "text/plain": [
              "<Figure size 1500x600 with 3 Axes>"
            ],
            "image/png": "[encoded data removed]"
          },
          "metadata": {}
        }
      ]
    },
    {
      "cell_type": "code",
      "source": [
        "analyze_condition_vs_diabetes(df, 'HighBP')"
      ],
      "metadata": {
        "id": "jWxlI6Vp44q4",
        "colab": {
          "base_uri": "https://localhost:8080/",
          "height": 607
        },
        "outputId": "3279581d-9663-4bc1-bfe4-db9ed12372a2"
      },
      "execution_count": null,
      "outputs": [
        {
          "output_type": "display_data",
          "data": {
            "text/plain": [
              "<Figure size 1200x600 with 2 Axes>"
            ],
            "image/png": "[encoded data removed]"
          },
          "metadata": {}
        }
      ]
    },
    {
      "cell_type": "code",
      "source": [
        "df['HighBP'].corr(df['diabetes'])"
      ],
      "metadata": {
        "id": "yiGQd8Ox46Na"
      },
      "execution_count": null,
      "outputs": []
    },
    {
      "cell_type": "markdown",
      "source": [
        " فشار خون بالا بین افراد دیابتی خیلی رایج هست. اما  دیابت بین افراد فشارخون بالا خیلی رایج نیست.\n",
        "\n",
        " رابطه ی مستقیم ضعیفی بین دیابت و فشارخون بالا وجود دارد\n",
        " اما لزوما هرکسی که فشارخون بالا دارد دیابت ندارد.\n"
      ],
      "metadata": {
        "id": "XLzP_1ou48WZ"
      }
    },
    {
      "cell_type": "markdown",
      "source": [
        "## چند درصد از افراد در دیتاست چربی خون بالا دارند؟\n"
      ],
      "metadata": {
        "id": "azw9Y5bJ5C29"
      }
    },
    {
      "cell_type": "code",
      "source": [
        "chol_title = f'Distribution of high cholesterol '\n",
        "plot_pie_chart_from_column(df, 'HighChol', title=chol_title)"
      ],
      "metadata": {
        "id": "hYICfPWB5Fet",
        "colab": {
          "base_uri": "https://localhost:8080/",
          "height": 801
        },
        "outputId": "979a55e6-6afe-4cd5-8558-0773bccf4863"
      },
      "execution_count": null,
      "outputs": [
        {
          "output_type": "display_data",
          "data": {
            "text/plain": [
              "<Figure size 800x800 with 1 Axes>"
            ],
            "image/png": "[encoded data removed]"
          },
          "metadata": {}
        }
      ]
    },
    {
      "cell_type": "markdown",
      "source": [
        "## آیا ارتباطی بین چربی خون بالا و دیابت وجود دارد؟\n"
      ],
      "metadata": {
        "id": "EISUeAWm5Ku1"
      }
    },
    {
      "cell_type": "code",
      "source": [
        "analyze_condition_vs_diabetes(df, 'HighChol')"
      ],
      "metadata": {
        "id": "ZTL2jfnA5It7",
        "colab": {
          "base_uri": "https://localhost:8080/",
          "height": 607
        },
        "outputId": "28cbb29c-33cc-4cc2-8fd5-f57863c6ed4a"
      },
      "execution_count": null,
      "outputs": [
        {
          "output_type": "display_data",
          "data": {
            "text/plain": [
              "<Figure size 1200x600 with 2 Axes>"
            ],
            "image/png": "[encoded data removed]"
          },
          "metadata": {}
        }
      ]
    },
    {
      "cell_type": "code",
      "source": [
        "analyze_diabetes_vs_condition(df, 'HighChol')"
      ],
      "metadata": {
        "id": "zMCoDG8i5PWP",
        "colab": {
          "base_uri": "https://localhost:8080/",
          "height": 540
        },
        "outputId": "cf9f352b-d72a-4224-dbdf-263a9fc25949"
      },
      "execution_count": null,
      "outputs": [
        {
          "output_type": "display_data",
          "data": {
            "text/plain": [
              "<Figure size 1500x600 with 3 Axes>"
            ],
            "image/png": "[encoded data removed]"
          },
          "metadata": {}
        }
      ]
    },
    {
      "cell_type": "code",
      "source": [
        "df['HighChol'].corr(df['diabetes'])"
      ],
      "metadata": {
        "id": "83SQOGyi5Q4D"
      },
      "execution_count": null,
      "outputs": []
    },
    {
      "cell_type": "markdown",
      "source": [
        "## تاثیر فشار خون بالا و چربی خون بالا روی ابتلا به دیابت"
      ],
      "metadata": {
        "id": "evE_Ilee5Vf9"
      }
    },
    {
      "cell_type": "code",
      "source": [
        "df['HighBP_HighChol'] = df.apply(lambda x: 1 if x['HighBP'] == 1 and x['HighChol'] == 1 else 0, axis=1)\n",
        "pd.crosstab(df['HighBP_HighChol'], df['diabetes'], normalize='index')\n"
      ],
      "metadata": {
        "id": "-xvyC9nh5WrU",
        "colab": {
          "base_uri": "https://localhost:8080/",
          "height": 143
        },
        "outputId": "ad0e2b46-ec86-4b41-c78c-7ffce7649235"
      },
      "execution_count": null,
      "outputs": [
        {
          "output_type": "execute_result",
          "data": {
            "text/plain": [
              "diabetes              0.0       1.0       2.0\n",
              "HighBP_HighChol                              \n",
              "0                0.888618  0.015582  0.095800\n",
              "1                0.661683  0.032420  0.305896"
            ],
            "text/html": [
              "\n",
              "  <div id=\"df-0e7fc78b-30f4-45fd-a8cd-b970e8418e68\" class=\"colab-df-container\">\n",
              "    <div>\n",
              "<style scoped>\n",
              "    .dataframe tbody tr th:only-of-type {\n",
              "        vertical-align: middle;\n",
              "    }\n",
              "\n",
              "    .dataframe tbody tr th {\n",
              "        vertical-align: top;\n",
              "    }\n",
              "\n",
              "    .dataframe thead th {\n",
              "        text-align: right;\n",
              "    }\n",
              "</style>\n",
              "<table border=\"1\" class=\"dataframe\">\n",
              "  <thead>\n",
              "    <tr style=\"text-align: right;\">\n",
              "      <th>diabetes</th>\n",
              "      <th>0.0</th>\n",
              "      <th>1.0</th>\n",
              "      <th>2.0</th>\n",
              "    </tr>\n",
              "    <tr>\n",
              "      <th>HighBP_HighChol</th>\n",
              "      <th></th>\n",
              "      <th></th>\n",
              "      <th></th>\n",
              "    </tr>\n",
              "  </thead>\n",
              "  <tbody>\n",
              "    <tr>\n",
              "      <th>0</th>\n",
              "      <td>0.888618</td>\n",
              "      <td>0.015582</td>\n",
              "      <td>0.095800</td>\n",
              "    </tr>\n",
              "    <tr>\n",
              "      <th>1</th>\n",
              "      <td>0.661683</td>\n",
              "      <td>0.032420</td>\n",
              "      <td>0.305896</td>\n",
              "    </tr>\n",
              "  </tbody>\n",
              "</table>\n",
              "</div>\n",
              "    <div class=\"colab-df-buttons\">\n",
              "\n",
              "  <div class=\"colab-df-container\">\n",
              "    <button class=\"colab-df-convert\" onclick=\"convertToInteractive('df-0e7fc78b-30f4-45fd-a8cd-b970e8418e68')\"\n",
              "            title=\"Convert this dataframe to an interactive table.\"\n",
              "            style=\"display:none;\">\n",
              "\n",
              "  <svg xmlns=\"http://www.w3.org/2000/svg\" height=\"24px\" viewBox=\"0 -960 960 960\">\n",
              "    <path d=\"M120-120v-720h720v720H120Zm60-500h600v-160H180v160Zm220 220h160v-160H400v160Zm0 220h160v-160H400v160ZM180-400h160v-160H180v160Zm440 0h160v-160H620v160ZM180-180h160v-160H180v160Zm440 0h160v-160H620v160Z\"/>\n",
              "  </svg>\n",
              "    </button>\n",
              "\n",
              "  <style>\n",
              "    .colab-df-container {\n",
              "      display:flex;\n",
              "      gap: 12px;\n",
              "    }\n",
              "\n",
              "    .colab-df-convert {\n",
              "      background-color: #E8F0FE;\n",
              "      border: none;\n",
              "      border-radius: 50%;\n",
              "      cursor: pointer;\n",
              "      display: none;\n",
              "      fill: #1967D2;\n",
              "      height: 32px;\n",
              "      padding: 0 0 0 0;\n",
              "      width: 32px;\n",
              "    }\n",
              "\n",
              "    .colab-df-convert:hover {\n",
              "      background-color: #E2EBFA;\n",
              "      box-shadow: 0px 1px 2px rgba(60, 64, 67, 0.3), 0px 1px 3px 1px rgba(60, 64, 67, 0.15);\n",
              "      fill: #174EA6;\n",
              "    }\n",
              "\n",
              "    .colab-df-buttons div {\n",
              "      margin-bottom: 4px;\n",
              "    }\n",
              "\n",
              "    [theme=dark] .colab-df-convert {\n",
              "      background-color: #3B4455;\n",
              "      fill: #D2E3FC;\n",
              "    }\n",
              "\n",
              "    [theme=dark] .colab-df-convert:hover {\n",
              "      background-color: #434B5C;\n",
              "      box-shadow: 0px 1px 3px 1px rgba(0, 0, 0, 0.15);\n",
              "      filter: drop-shadow(0px 1px 2px rgba(0, 0, 0, 0.3));\n",
              "      fill: #FFFFFF;\n",
              "    }\n",
              "  </style>\n",
              "\n",
              "    <script>\n",
              "      const buttonEl =\n",
              "        document.querySelector('#df-0e7fc78b-30f4-45fd-a8cd-b970e8418e68 button.colab-df-convert');\n",
              "      buttonEl.style.display =\n",
              "        google.colab.kernel.accessAllowed ? 'block' : 'none';\n",
              "\n",
              "      async function convertToInteractive(key) {\n",
              "        const element = document.querySelector('#df-0e7fc78b-30f4-45fd-a8cd-b970e8418e68');\n",
              "        const dataTable =\n",
              "          await google.colab.kernel.invokeFunction('convertToInteractive',\n",
              "                                                    [key], {});\n",
              "        if (!dataTable) return;\n",
              "\n",
              "        const docLinkHtml = 'Like what you see? Visit the ' +\n",
              "          '<a target=\"_blank\" href=https://colab.research.google.com/notebooks/data_table.ipynb>data table notebook</a>'\n",
              "          + ' to learn more about interactive tables.';\n",
              "        element.innerHTML = '';\n",
              "        dataTable['output_type'] = 'display_data';\n",
              "        await google.colab.output.renderOutput(dataTable, element);\n",
              "        const docLink = document.createElement('div');\n",
              "        docLink.innerHTML = docLinkHtml;\n",
              "        element.appendChild(docLink);\n",
              "      }\n",
              "    </script>\n",
              "  </div>\n",
              "\n",
              "\n",
              "<div id=\"df-b2f8d359-3dc6-4ca7-9faf-10d88c95ab17\">\n",
              "  <button class=\"colab-df-quickchart\" onclick=\"quickchart('df-b2f8d359-3dc6-4ca7-9faf-10d88c95ab17')\"\n",
              "            title=\"Suggest charts\"\n",
              "            style=\"display:none;\">\n",
              "\n",
              "<svg xmlns=\"http://www.w3.org/2000/svg\" height=\"24px\"viewBox=\"0 0 24 24\"\n",
              "     width=\"24px\">\n",
              "    <g>\n",
              "        <path d=\"M19 3H5c-1.1 0-2 .9-2 2v14c0 1.1.9 2 2 2h14c1.1 0 2-.9 2-2V5c0-1.1-.9-2-2-2zM9 17H7v-7h2v7zm4 0h-2V7h2v10zm4 0h-2v-4h2v4z\"/>\n",
              "    </g>\n",
              "</svg>\n",
              "  </button>\n",
              "\n",
              "<style>\n",
              "  .colab-df-quickchart {\n",
              "      --bg-color: #E8F0FE;\n",
              "      --fill-color: #1967D2;\n",
              "      --hover-bg-color: #E2EBFA;\n",
              "      --hover-fill-color: #174EA6;\n",
              "      --disabled-fill-color: #AAA;\n",
              "      --disabled-bg-color: #DDD;\n",
              "  }\n",
              "\n",
              "  [theme=dark] .colab-df-quickchart {\n",
              "      --bg-color: #3B4455;\n",
              "      --fill-color: #D2E3FC;\n",
              "      --hover-bg-color: #434B5C;\n",
              "      --hover-fill-color: #FFFFFF;\n",
              "      --disabled-bg-color: #3B4455;\n",
              "      --disabled-fill-color: #666;\n",
              "  }\n",
              "\n",
              "  .colab-df-quickchart {\n",
              "    background-color: var(--bg-color);\n",
              "    border: none;\n",
              "    border-radius: 50%;\n",
              "    cursor: pointer;\n",
              "    display: none;\n",
              "    fill: var(--fill-color);\n",
              "    height: 32px;\n",
              "    padding: 0;\n",
              "    width: 32px;\n",
              "  }\n",
              "\n",
              "  .colab-df-quickchart:hover {\n",
              "    background-color: var(--hover-bg-color);\n",
              "    box-shadow: 0 1px 2px rgba(60, 64, 67, 0.3), 0 1px 3px 1px rgba(60, 64, 67, 0.15);\n",
              "    fill: var(--button-hover-fill-color);\n",
              "  }\n",
              "\n",
              "  .colab-df-quickchart-complete:disabled,\n",
              "  .colab-df-quickchart-complete:disabled:hover {\n",
              "    background-color: var(--disabled-bg-color);\n",
              "    fill: var(--disabled-fill-color);\n",
              "    box-shadow: none;\n",
              "  }\n",
              "\n",
              "  .colab-df-spinner {\n",
              "    border: 2px solid var(--fill-color);\n",
              "    border-color: transparent;\n",
              "    border-bottom-color: var(--fill-color);\n",
              "    animation:\n",
              "      spin 1s steps(1) infinite;\n",
              "  }\n",
              "\n",
              "  @keyframes spin {\n",
              "    0% {\n",
              "      border-color: transparent;\n",
              "      border-bottom-color: var(--fill-color);\n",
              "      border-left-color: var(--fill-color);\n",
              "    }\n",
              "    20% {\n",
              "      border-color: transparent;\n",
              "      border-left-color: var(--fill-color);\n",
              "      border-top-color: var(--fill-color);\n",
              "    }\n",
              "    30% {\n",
              "      border-color: transparent;\n",
              "      border-left-color: var(--fill-color);\n",
              "      border-top-color: var(--fill-color);\n",
              "      border-right-color: var(--fill-color);\n",
              "    }\n",
              "    40% {\n",
              "      border-color: transparent;\n",
              "      border-right-color: var(--fill-color);\n",
              "      border-top-color: var(--fill-color);\n",
              "    }\n",
              "    60% {\n",
              "      border-color: transparent;\n",
              "      border-right-color: var(--fill-color);\n",
              "    }\n",
              "    80% {\n",
              "      border-color: transparent;\n",
              "      border-right-color: var(--fill-color);\n",
              "      border-bottom-color: var(--fill-color);\n",
              "    }\n",
              "    90% {\n",
              "      border-color: transparent;\n",
              "      border-bottom-color: var(--fill-color);\n",
              "    }\n",
              "  }\n",
              "</style>\n",
              "\n",
              "  <script>\n",
              "    async function quickchart(key) {\n",
              "      const quickchartButtonEl =\n",
              "        document.querySelector('#' + key + ' button');\n",
              "      quickchartButtonEl.disabled = true;  // To prevent multiple clicks.\n",
              "      quickchartButtonEl.classList.add('colab-df-spinner');\n",
              "      try {\n",
              "        const charts = await google.colab.kernel.invokeFunction(\n",
              "            'suggestCharts', [key], {});\n",
              "      } catch (error) {\n",
              "        console.error('Error during call to suggestCharts:', error);\n",
              "      }\n",
              "      quickchartButtonEl.classList.remove('colab-df-spinner');\n",
              "      quickchartButtonEl.classList.add('colab-df-quickchart-complete');\n",
              "    }\n",
              "    (() => {\n",
              "      let quickchartButtonEl =\n",
              "        document.querySelector('#df-b2f8d359-3dc6-4ca7-9faf-10d88c95ab17 button');\n",
              "      quickchartButtonEl.style.display =\n",
              "        google.colab.kernel.accessAllowed ? 'block' : 'none';\n",
              "    })();\n",
              "  </script>\n",
              "</div>\n",
              "    </div>\n",
              "  </div>\n"
            ],
            "application/vnd.google.colaboratory.intrinsic+json": {
              "type": "dataframe",
              "summary": "{\n  \"name\": \"pd\",\n  \"rows\": 2,\n  \"fields\": [\n    {\n      \"column\": \"HighBP_HighChol\",\n      \"properties\": {\n        \"dtype\": \"number\",\n        \"std\": 0,\n        \"min\": 0,\n        \"max\": 1,\n        \"num_unique_values\": 2,\n        \"samples\": [\n          1,\n          0\n        ],\n        \"semantic_type\": \"\",\n        \"description\": \"\"\n      }\n    },\n    {\n      \"column\": 0.0,\n      \"properties\": {\n        \"dtype\": \"number\",\n        \"std\": 0.16046711944369318,\n        \"min\": 0.6616834735692723,\n        \"max\": 0.8886182502014865,\n        \"num_unique_values\": 2,\n        \"samples\": [\n          0.6616834735692723,\n          0.8886182502014865\n        ],\n        \"semantic_type\": \"\",\n        \"description\": \"\"\n      }\n    },\n    {\n      \"column\": 1.0,\n      \"properties\": {\n        \"dtype\": \"number\",\n        \"std\": 0.011906666711518432,\n        \"min\": 0.015581624429121518,\n        \"max\": 0.032420193975207144,\n        \"num_unique_values\": 2,\n        \"samples\": [\n          0.032420193975207144,\n          0.015581624429121518\n        ],\n        \"semantic_type\": \"\",\n        \"description\": \"\"\n      }\n    },\n    {\n      \"column\": 2.0,\n      \"properties\": {\n        \"dtype\": \"number\",\n        \"std\": 0.14856045273217472,\n        \"min\": 0.09580012536939196,\n        \"max\": 0.30589633245552056,\n        \"num_unique_values\": 2,\n        \"samples\": [\n          0.30589633245552056,\n          0.09580012536939196\n        ],\n        \"semantic_type\": \"\",\n        \"description\": \"\"\n      }\n    }\n  ]\n}"
            }
          },
          "metadata": {},
          "execution_count": 71
        }
      ]
    },
    {
      "cell_type": "markdown",
      "source": [
        "در گروهی که هر دو عامل\n",
        "(فشار خون بالا و چربی خون بالا) را ندارند یا فقط یکی از آن‌ها را دارند\n",
        "بیش از 88% از افراد بدون دیابت هستند.\n",
        "تنها 9.58% از این افراد دیابت دارند.\n",
        "\n",
        "در گروهی که هر دو عامل فشار خون و چربی خون بالا را دارند\n",
        "درصد افرادی که دیابت دارند به طور چشمگیری افزایش یافته و به 30.59% رسیده .\n",
        "همچنین درصد افرادی که پیش‌دیابت دارند، از 1.56% به 3.24% افزایش یافته.\n",
        "افرادی که هم فشار خون بالا و هم چربی خون بالا دارند، به طور قابل توجهی بیشتر مستعد ابتلا به دیابت هستند."
      ],
      "metadata": {
        "id": "k075SSUk5ad3"
      }
    },
    {
      "cell_type": "markdown",
      "source": [
        "## فعالیت فیزیکی و دیابت"
      ],
      "metadata": {
        "id": "MPwjJ3oO5b1s"
      }
    },
    {
      "cell_type": "code",
      "source": [
        "activity_diabetes = pd.crosstab(index=df['PhysActivity'], columns=df['diabetes'], margins=True)\n",
        "print(activity_diabetes)\n"
      ],
      "metadata": {
        "id": "4d2h-fYA5d8F",
        "colab": {
          "base_uri": "https://localhost:8080/"
        },
        "outputId": "a06981a8-2a7e-404d-ffaa-71e1651b2208"
      },
      "execution_count": null,
      "outputs": [
        {
          "output_type": "stream",
          "name": "stdout",
          "text": [
            "diabetes         0.0   1.0    2.0     All\n",
            "PhysActivity                             \n",
            "0.0            46743  1489  13038   61270\n",
            "1.0           143312  3140  22059  168511\n",
            "All           190055  4629  35097  229781\n"
          ]
        }
      ]
    },
    {
      "cell_type": "code",
      "source": [
        "activity_diabetes.drop('All', inplace=True)\n",
        "activity_diabetes.plot(kind='bar', stacked=True, figsize=(10, 6), color=pastel_colors)\n",
        "\n",
        "plt.title('Distribution of Diabetes by Physical Activity')\n",
        "plt.xlabel('Physical Activity')\n",
        "plt.ylabel('Count')\n",
        "plt.legend(title='Diabetes Status')\n",
        "plt.grid(True)\n",
        "plt.show()\n"
      ],
      "metadata": {
        "colab": {
          "base_uri": "https://localhost:8080/",
          "height": 587
        },
        "id": "mPySQ6_7jm6A",
        "outputId": "2ae91ada-0b6d-4c22-c9ad-78d3f4c7e699"
      },
      "execution_count": null,
      "outputs": [
        {
          "output_type": "display_data",
          "data": {
            "text/plain": [
              "<Figure size 1000x600 with 1 Axes>"
            ],
            "image/png": "[encoded data removed]"
          },
          "metadata": {}
        }
      ]
    },
    {
      "cell_type": "code",
      "source": [
        "chi2_activity, p_activity, dof_activity, ex_activity = chi2_contingency(activity_diabetes)\n",
        "\n",
        "print(f\"Chi-square Activity and Diabetes: {chi2_activity}, P-value: {p_activity}\")\n"
      ],
      "metadata": {
        "id": "NWyIL1Qs5jQY",
        "colab": {
          "base_uri": "https://localhost:8080/"
        },
        "outputId": "5332258c-342d-426e-c9f7-05dcfcba0b74"
      },
      "execution_count": null,
      "outputs": [
        {
          "output_type": "stream",
          "name": "stdout",
          "text": [
            "Chi-square Activity and Diabetes: 2460.9016468484137, P-value: 0.0\n"
          ]
        }
      ]
    },
    {
      "cell_type": "markdown",
      "source": [
        "درصد افراد دیابتی در گروه بدون فعالیت فیزیکی: تقریباً 21.29%.\n",
        "\n",
        "\n",
        "درصد افراد دیابتی در گروه با فعالیت فیزیکی: تقریباً 13.09%.\n",
        "\n",
        "\n",
        " افرادی که فعالیت فیزیکی دارند، کمتر مستعد ابتلا به دیابت هستند. درصد افراد دیابتی در میان کسانی که فعالیت فیزیکی ندارند به طور قابل توجهی بیشتر از افرادی است که فعالیت فیزیکی دارند."
      ],
      "metadata": {
        "id": "GdLoLybS5lt-"
      }
    },
    {
      "cell_type": "markdown",
      "source": [
        "## فعالیت فیزیکی و فشار خون"
      ],
      "metadata": {
        "id": "W5neep8s5ox7"
      }
    },
    {
      "cell_type": "code",
      "source": [
        "sns.countplot(x='PhysActivity', hue='HighBP', data=df)"
      ],
      "metadata": {
        "id": "6hpwkF_L5uGQ"
      },
      "execution_count": null,
      "outputs": []
    },
    {
      "cell_type": "code",
      "source": [
        "def perform_chi_square_test(df, first_column, second_column):\n",
        "    contingency_table = pd.crosstab(df[first_column], df[second_column])\n",
        "    chi2_stat, p_value, dof, expected = chi2_contingency(contingency_table)\n",
        "\n",
        "    return chi2_stat, p_value, contingency_table, expected\n",
        "\n",
        "chi2_stat, p_value, contingency_table, expected = perform_chi_square_test(df, 'PhysActivity', 'HighBP')\n",
        "\n",
        "print(f\"Chi-Square Statistic: {chi2_stat}\")\n",
        "print(f\"P-Value: {p_value}\")\n",
        "print(\"Contingency Table:\\n\", contingency_table)\n",
        "print(\"Expected Frequencies:\\n\", expected)"
      ],
      "metadata": {
        "id": "88SRfUvT5utA"
      },
      "execution_count": null,
      "outputs": []
    },
    {
      "cell_type": "markdown",
      "source": [
        "افرادی که فعالیت فیزیکی بیشتری دارند، احتمالاً کمتر از دیگران به فشار خون بالا مبتلا می‌شوند.\n",
        "همچنین، افرادی که فعالیت فیزیکی ندارند، بیشتر از تعداد مورد انتظار به فشار خون بالا مبتلا هستند."
      ],
      "metadata": {
        "id": "woq_QlaS5ysI"
      }
    },
    {
      "cell_type": "markdown",
      "source": [
        "## فعالیت فیزیکی و کلسترول بالا"
      ],
      "metadata": {
        "id": "FBJXk1Z_56Zf"
      }
    },
    {
      "cell_type": "code",
      "source": [
        "sns.countplot(x='PhysActivity', hue='HighChol', data=df)\n",
        "\n",
        "chi2_stat, p_value, contingency_table, expected = perform_chi_square_test(df, 'PhysActivity', 'HighChol')\n",
        "print(f\"Chi-Square Statistic: {chi2_stat}\")\n",
        "print(f\"P-Value: {p_value}\")\n",
        "print(\"Contingency Table:\\n\", contingency_table)\n",
        "print(\"Expected Frequencies:\\n\", expected)"
      ],
      "metadata": {
        "id": "X7oco_Sp566N"
      },
      "execution_count": null,
      "outputs": []
    },
    {
      "cell_type": "markdown",
      "source": [
        "افرادی که فعالیت فیزیکی بالایی دارند، نسبت به تعداد مورد انتظار کلسترول طبیعی بیشتری دارند.\n",
        "در مقابل، افرادی که فعالیت فیزیکی ندارند، تعداد بیشتری از آن‌ها از آنچه انتظار می‌رفت کلسترول بالا دارند."
      ],
      "metadata": {
        "id": "r_YW6vAz5-6l"
      }
    },
    {
      "cell_type": "markdown",
      "source": [
        "## فعالیت فیزیکی , جنسیت و دیابت"
      ],
      "metadata": {
        "id": "9Tb3NKSlAegf"
      }
    },
    {
      "cell_type": "code",
      "source": [
        "phys_contingency_table = pd.crosstab(df['PhysActivity'], df['Sex'])\n",
        "\n",
        "chi2, p, dof, expected = stats.chi2_contingency(phys_contingency_table)\n",
        "\n",
        "print('Chi-square:', chi2)\n",
        "print('p-value:', p)\n",
        "print('Degrees of freedom:', dof)\n",
        "print('Expected frequencies:', expected)\n",
        "\n",
        "if p < 0.05:\n",
        "    print(\"فعالیت فیزیکی و جنسیت تاثیر معناداری بر دیابت دارند.\")\n",
        "else:\n",
        "    print(\"فعالیت فیزیکی و جنسیت تاثیر معناداری بر دیابت ندارند.\")"
      ],
      "metadata": {
        "id": "-_a2qKMzAfGx"
      },
      "execution_count": null,
      "outputs": []
    },
    {
      "cell_type": "markdown",
      "source": [
        "\n",
        "فعالیت فیزیکی به طور کلی به کاهش احتمال دیابت کمک می‌کند.\n",
        "\n",
        "جنسیت به طور معناداری بر احتمال دیابت تأثیر دارد.\n",
        "\n",
        "تاثیر ترکیبی فعالیت فیزیکی و جنسیت: فعالیت فیزیکی تأثیر بیشتری بر کاهش دیابت در مردان"
      ],
      "metadata": {
        "id": "o-OXIjD6AoVh"
      }
    },
    {
      "cell_type": "markdown",
      "source": [
        "## ارتباط بین فعالیت فیزیکی, فشارخون بالا, چربی خون بالا با دیابت"
      ],
      "metadata": {
        "id": "Nt-uSIG_6DlS"
      }
    },
    {
      "cell_type": "code",
      "source": [
        "numeric_columns = ['diabetes', 'HighBP', 'HighChol', 'PhysActivity']\n",
        "correlation_matrix = df[numeric_columns].corr()\n",
        "plt.figure(figsize=(10, 8))\n",
        "sns.heatmap(correlation_matrix, annot=True, cmap='coolwarm', fmt='.2f')\n",
        "plt.title('Correlation Matrix')\n",
        "plt.show()\n"
      ],
      "metadata": {
        "id": "dx3mea-t6FYy",
        "colab": {
          "base_uri": "https://localhost:8080/",
          "height": 708
        },
        "outputId": "31fe0794-dec4-4a66-c9e6-fbb2f5602c2e"
      },
      "execution_count": null,
      "outputs": [
        {
          "output_type": "display_data",
          "data": {
            "text/plain": [
              "<Figure size 1000x800 with 2 Axes>"
            ],
            "image/png": "[encoded data removed]"
          },
          "metadata": {}
        }
      ]
    },
    {
      "cell_type": "markdown",
      "source": [
        "\n",
        "   فشار خون بالا و کلسترول بالا هر دو  پیش‌بین‌های قوی برای افزایش احتمال قرار گرفتن در هر یک از دسته‌های دیابت نسبت به دسته غیر دیابتی هستند.\n",
        "\n",
        "فعالیت بدنی با فشارخون و چربی خون و دیابت همبستگی منفی دارد. یعنی احتمال ابتلا به این بیماری هارا کاهش میدهد.\n"
      ],
      "metadata": {
        "id": "T6tI7vvd6LWQ"
      }
    },
    {
      "cell_type": "markdown",
      "source": [
        "## توزیع فراوانی شاخص توده بدنی"
      ],
      "metadata": {
        "id": "55D7BQ2c6Mvd"
      }
    },
    {
      "cell_type": "code",
      "source": [
        "bmi_bins = [0, 18.5, 24.9, 29.9, 39.9, 50,  100]\n",
        "bmi_labels = ['Underweight', ' Normal weight',\n",
        "          'Overweight', ' Obesity I',\n",
        "          'Obesity II', 'Obesity III']\n",
        "\n",
        "df['BMI'] = pd.cut(df['BMI'], bins=bmi_bins, labels=bmi_labels)\n",
        "\n",
        "plt.figure(figsize=(12, 8))\n",
        "\n",
        "# Plot each category\n",
        "for label in bmi_labels:\n",
        "    sns.histplot(df[df['BMI'] == label]['BMI'], bins=30, kde=True, label=label, alpha=0.5)\n",
        "\n",
        "plt.title('BMI Distribution by Class')\n",
        "plt.xlabel('BMI')\n",
        "plt.ylabel('Frequency')\n",
        "plt.legend(title='''BMI Category:\n",
        "        bmi <18.5= Underweight,\n",
        "        18.5 to 24.9=Normal weight,\n",
        "        25 to 29.9=Overweight,\n",
        "        30 to 34.9=Obesity I,\n",
        "        35 to 39.9= Obesity II,\n",
        "        bmi ≥ 40 = Obesity III''' )\n",
        "plt.grid()\n",
        "plt.show()"
      ],
      "metadata": {
        "id": "pqKchZx86RrD"
      },
      "execution_count": null,
      "outputs": []
    },
    {
      "cell_type": "markdown",
      "source": [
        "## توزیع دیابت در شاخص توده بدنی"
      ],
      "metadata": {
        "id": "PDYuj8556WMh"
      }
    },
    {
      "cell_type": "code",
      "source": [
        "plot_diabetes_in_numerical(df, 'BMI')"
      ],
      "metadata": {
        "id": "6n4bEJNn6XhP"
      },
      "execution_count": null,
      "outputs": []
    },
    {
      "cell_type": "markdown",
      "source": [
        "## ارتباط بین دیابت و شاخص توده بدنی با داده های پرت\n"
      ],
      "metadata": {
        "id": "SxwMEM8q6bl3"
      }
    },
    {
      "cell_type": "code",
      "source": [
        "sns.boxplot(df, x='BMI', hue='diabetes')"
      ],
      "metadata": {
        "id": "4acu5lnm6ce5"
      },
      "execution_count": null,
      "outputs": []
    },
    {
      "cell_type": "markdown",
      "source": [
        "میانگین با داده های پرت"
      ],
      "metadata": {
        "id": "xW7qla0z6kYj"
      }
    },
    {
      "cell_type": "code",
      "source": [
        "mean_bmi_by_diabetes_status = df.groupby('diabetes')['BMI'].mean().round().reset_index()\n",
        "print(mean_bmi_by_diabetes_status)\n"
      ],
      "metadata": {
        "id": "RCAuPruP6hyi"
      },
      "execution_count": null,
      "outputs": []
    },
    {
      "cell_type": "markdown",
      "source": [
        "میانه با داده های پرت"
      ],
      "metadata": {
        "id": "XPfI9V1W6pup"
      }
    },
    {
      "cell_type": "code",
      "source": [
        "median_bmi_by_diabetes_status = df.groupby('diabetes')['BMI'].median().reset_index()\n",
        "print(median_bmi_by_diabetes_status)"
      ],
      "metadata": {
        "id": "UnQryFtt6j5f"
      },
      "execution_count": null,
      "outputs": []
    },
    {
      "cell_type": "markdown",
      "source": [
        "تست"
      ],
      "metadata": {
        "id": "U-kcyQ626uv-"
      }
    },
    {
      "cell_type": "code",
      "source": [
        "group1 = df[df['diabetes'] == 0]['BMI']\n",
        "group2 = df[df['diabetes'] == 2]['BMI']\n",
        "stat, p_value = mannwhitneyu(group1, group2)\n",
        "print(f'Mann-Whitney U Test Statistic: {stat}, P-Value: {p_value}')\n"
      ],
      "metadata": {
        "id": "1oKBXQSQ6vcS"
      },
      "execution_count": null,
      "outputs": []
    },
    {
      "cell_type": "markdown",
      "source": [
        " افراد دیابتی شاخص توده بدنی بالاتری دارند به نسبت اونهایی که دیابت ندارند که یعنی که شاخص توده بدنی بالاتر با افزایش احتمال ابتلا به دیابت مرتبط است.\n"
      ],
      "metadata": {
        "id": "KHeOxGtW6x_w"
      }
    },
    {
      "cell_type": "markdown",
      "source": [
        "## ارتباط بین دیابت و شاخص توده بدنی بدون داده های پرت\n"
      ],
      "metadata": {
        "id": "I5z5pPnF62nz"
      }
    },
    {
      "cell_type": "code",
      "source": [
        "df_with_outliers = df[['BMI', 'diabetes']]\n",
        "plt.figure(figsize=(10, 6))\n",
        "sns.boxplot(x='BMI', hue='diabetes', data=df_with_outliers)\n",
        "plt.title('BMI vs Diabetes with Outliers')\n",
        "plt.xlabel('BMI')\n",
        "plt.ylabel('Diabetes')\n",
        "plt.show()\n",
        "Q1 = df['BMI'].quantile(0.25)\n",
        "Q3 = df['BMI'].quantile(0.75)\n",
        "IQR = Q3 - Q1\n",
        "lower_bound = Q1 - 1.5 * IQR\n",
        "upper_bound = Q3 + 1.5 * IQR\n",
        "\n",
        "df_without_outliers = df[(df['BMI'] >= lower_bound) & (df['BMI'] <= upper_bound)]\n",
        "\n",
        "plt.figure(figsize=(10, 6))\n",
        "sns.boxplot(x='BMI', hue='diabetes', data=df_with_outliers)\n",
        "plt.title('BMI vs Diabetes without Outliers')\n",
        "plt.xlabel('BMI')\n",
        "plt.ylabel('Diabetes')\n",
        "plt.show()\n",
        "\n",
        "df_without_outliers['BMI'].mean()\n",
        "df_without_outliers['BMI'].median()"
      ],
      "metadata": {
        "id": "DQitU1Cx6zvp"
      },
      "execution_count": null,
      "outputs": []
    },
    {
      "cell_type": "markdown",
      "source": [
        "میانگین بدون داده های پرت"
      ],
      "metadata": {
        "id": "Xr6sTy9e68KK"
      }
    },
    {
      "cell_type": "code",
      "source": [
        "mean_bmi_without_outliers = df_without_outliers.groupby('diabetes')['BMI'].mean().round().reset_index()\n",
        "print(mean_bmi_without_outliers)"
      ],
      "metadata": {
        "id": "DkyhebjB6-35"
      },
      "execution_count": null,
      "outputs": []
    },
    {
      "cell_type": "markdown",
      "source": [
        "میانه بدون داده های پرت"
      ],
      "metadata": {
        "id": "Bcsh1KdK7BMZ"
      }
    },
    {
      "cell_type": "code",
      "source": [
        "median_bmi_without_outliers = df_without_outliers.groupby('diabetes')['BMI'].median().reset_index()\n",
        "print(median_bmi_without_outliers)"
      ],
      "metadata": {
        "id": "vmh9MgeL7C2O"
      },
      "execution_count": null,
      "outputs": []
    },
    {
      "cell_type": "markdown",
      "source": [
        "تست"
      ],
      "metadata": {
        "id": "CqKKfjcS7IOp"
      }
    },
    {
      "cell_type": "code",
      "source": [
        "group1 = df_without_outliers[df_without_outliers['diabetes'] == 0]['BMI']\n",
        "group2 = df_without_outliers[df_without_outliers['diabetes'] == 2]['BMI']\n",
        "stat, p_value = mannwhitneyu(group1, group2)\n",
        "print(f'Mann-Whitney U Test Statistic: {stat}, P-Value: {p_value}')\n"
      ],
      "metadata": {
        "id": "_UBQas6k7Hwv"
      },
      "execution_count": null,
      "outputs": []
    },
    {
      "cell_type": "markdown",
      "source": [
        "نتیجه فرقی نکرد. حذف داده‌های پرت تاثیری بر نتیجه کلی ندارد.\n",
        "\n"
      ],
      "metadata": {
        "id": "H15j2h1w7Kzp"
      }
    },
    {
      "cell_type": "markdown",
      "source": [
        "## ارتباط شاخص توده بدنی با فاکتور های مختلف"
      ],
      "metadata": {
        "id": "-Pmcmv9Z7X4f"
      }
    },
    {
      "cell_type": "code",
      "source": [
        "life_style_factors = ['BMI', 'Age', 'Fruits', 'Veggies', 'Income', 'Education']\n",
        "sns.heatmap(df[life_style_factors].corr(), annot=True)"
      ],
      "metadata": {
        "id": "4AMvfBkv7LOR"
      },
      "execution_count": null,
      "outputs": []
    },
    {
      "cell_type": "code",
      "source": [
        "for factor in life_style_factors:\n",
        "    crosstab = pd.crosstab(df['diabetes'], df[factor])\n",
        "    print(f'Cross table for Diabetes and {factor}:')\n",
        "    print(crosstab)\n",
        "    print('\\n')"
      ],
      "metadata": {
        "id": "qCkRoTF_7jP4"
      },
      "execution_count": null,
      "outputs": []
    },
    {
      "cell_type": "markdown",
      "source": [
        "با افزایش سن شاخص توده بدنی کمتر میشه.\n",
        "\n",
        "\n",
        "افرادی که\n",
        " حداقل یکبار در روز مصرف میوه و سبزیجات دارند شاخص توده بدنی پایین تر دارند.\n",
        "\n",
        " میزان تحصیلات/ درامد و شاخص توده بدنی همبستگی منفی دارند.\n",
        "\n",
        "\n",
        " شاخص توده بدنی بالاتر، با افزایش\n",
        " احتمال دیابت ارتباط دارد.\n",
        "\n",
        " افزایش سن با افزایش احتمال دیابت مرتبط است.\n",
        "\n",
        "  مصرف بیشتر میوه‌ها با کاهش احتمال دیابت مرتبط است.\n",
        "\n",
        "  مصرف بیشتر سبزیجات می‌تواند به کاهش احتمال دیابت کمک کند.\n",
        "\n",
        "درآمد بالاتر با کاهش احتمال دیابت مرتبط است.\n",
        "\n",
        " تحصیلات بالاتر با کاهش احتمال دیابت ارتباط دارد.\n"
      ],
      "metadata": {
        "id": "kFaQn2637jy6"
      }
    },
    {
      "cell_type": "markdown",
      "source": [
        "## شاخص توده بدنی و جنسیت"
      ],
      "metadata": {
        "id": "WALj3GPr71so"
      }
    },
    {
      "cell_type": "code",
      "source": [
        "median_bmi_male = df[df['Sex'] == 1]['BMI'].median()\n",
        "median_bmi_female = df[df['Sex'] == 0]['BMI'].median()\n",
        "\n",
        "\n",
        "print(f'Median BMI of male: {median_bmi_male}')\n",
        "print(f'Median BMI of female: {median_bmi_female}')"
      ],
      "metadata": {
        "id": "7ZLEtg1R7mnF"
      },
      "execution_count": null,
      "outputs": []
    },
    {
      "cell_type": "code",
      "source": [
        "bmi_group1 = df[df['Sex'] == 0]['BMI']\n",
        "bmi_group2 = df[df['Sex'] == 1]['BMI']\n",
        "stat, p_value = mannwhitneyu(bmi_group1, bmi_group2)\n",
        "print(f'Mann-Whitney U Test Statistic: {stat}, P-Value: {p_value}')"
      ],
      "metadata": {
        "colab": {
          "base_uri": "https://localhost:8080/",
          "height": 251
        },
        "id": "I6-0Alxo79XD",
        "outputId": "d932cc27-4a1b-41ac-a730-952a2141be56"
      },
      "execution_count": null,
      "outputs": [
        {
          "output_type": "error",
          "ename": "NameError",
          "evalue": "name 'mannwhitneyu' is not defined",
          "traceback": [
            "\u001b[0;31m---------------------------------------------------------------------------\u001b[0m",
            "\u001b[0;31mNameError\u001b[0m                                 Traceback (most recent call last)",
            "\u001b[0;32m<ipython-input-40-761924192f89>\u001b[0m in \u001b[0;36m<cell line: 3>\u001b[0;34m()\u001b[0m\n\u001b[1;32m      1\u001b[0m \u001b[0mbmi_group1\u001b[0m \u001b[0;34m=\u001b[0m \u001b[0mdf\u001b[0m\u001b[0;34m[\u001b[0m\u001b[0mdf\u001b[0m\u001b[0;34m[\u001b[0m\u001b[0;34m'Sex'\u001b[0m\u001b[0;34m]\u001b[0m \u001b[0;34m==\u001b[0m \u001b[0;36m0\u001b[0m\u001b[0;34m]\u001b[0m\u001b[0;34m[\u001b[0m\u001b[0;34m'BMI'\u001b[0m\u001b[0;34m]\u001b[0m\u001b[0;34m\u001b[0m\u001b[0;34m\u001b[0m\u001b[0m\n\u001b[1;32m      2\u001b[0m \u001b[0mbmi_group2\u001b[0m \u001b[0;34m=\u001b[0m \u001b[0mdf\u001b[0m\u001b[0;34m[\u001b[0m\u001b[0mdf\u001b[0m\u001b[0;34m[\u001b[0m\u001b[0;34m'Sex'\u001b[0m\u001b[0;34m]\u001b[0m \u001b[0;34m==\u001b[0m \u001b[0;36m1\u001b[0m\u001b[0;34m]\u001b[0m\u001b[0;34m[\u001b[0m\u001b[0;34m'BMI'\u001b[0m\u001b[0;34m]\u001b[0m\u001b[0;34m\u001b[0m\u001b[0;34m\u001b[0m\u001b[0m\n\u001b[0;32m----> 3\u001b[0;31m \u001b[0mstat\u001b[0m\u001b[0;34m,\u001b[0m \u001b[0mp_value\u001b[0m \u001b[0;34m=\u001b[0m \u001b[0mmannwhitneyu\u001b[0m\u001b[0;34m(\u001b[0m\u001b[0mbmi_group1\u001b[0m\u001b[0;34m,\u001b[0m \u001b[0mbmi_group2\u001b[0m\u001b[0;34m)\u001b[0m\u001b[0;34m\u001b[0m\u001b[0;34m\u001b[0m\u001b[0m\n\u001b[0m\u001b[1;32m      4\u001b[0m \u001b[0mprint\u001b[0m\u001b[0;34m(\u001b[0m\u001b[0;34mf'Mann-Whitney U Test Statistic: {stat}, P-Value: {p_value}'\u001b[0m\u001b[0;34m)\u001b[0m\u001b[0;34m\u001b[0m\u001b[0;34m\u001b[0m\u001b[0m\n",
            "\u001b[0;31mNameError\u001b[0m: name 'mannwhitneyu' is not defined"
          ]
        }
      ]
    },
    {
      "cell_type": "markdown",
      "source": [
        "تحلیل:\n",
        "\n",
        "بطور میانگین مرد ها شاخص توده بدنی بیشتری به نسبت خانم ها دارند.\n",
        "\n"
      ],
      "metadata": {
        "id": "QHQxLtKA8ONS"
      }
    },
    {
      "cell_type": "markdown",
      "source": [
        "## شاخص توده بدنی, فشار خون بالا , سن و دیابت"
      ],
      "metadata": {
        "id": "ef0xn_kEBOqX"
      }
    },
    {
      "cell_type": "code",
      "source": [
        "odds_ratios = np.exp(result.params)\n",
        "print(odds_ratios)\n",
        "odds_ratios = {\n",
        "    'Variable': ['HighBP', 'BMI', 'Age'],\n",
        "    'Odds Ratio': [2.852832, 1.074424, 1.172583]\n",
        "}\n",
        "odds_df = pd.DataFrame(odds_ratios)\n",
        "\n",
        "plt.figure(figsize=(8, 5))\n",
        "sns.barplot(x='Odds Ratio', y='Variable', data=odds_df, color='skyblue')\n",
        "plt.axvline(x=1, color='red', linestyle='--')\n",
        "plt.title('Odds Ratios for Diabetes Risk Factors')\n",
        "plt.xlabel('Odds Ratio')\n",
        "plt.ylabel('Predictor Variable')\n",
        "plt.show()"
      ],
      "metadata": {
        "id": "SM1G85iIBRHY"
      },
      "execution_count": null,
      "outputs": []
    },
    {
      "cell_type": "markdown",
      "source": [
        "افرادی که فشار خون بالا دارند، حدود 2.85 برابر بیشتر احتمال دیابت دارند.\n",
        "\n",
        "با هر واحد افزایش شاخص توده بدنی احتمال ابتلا به دیابت حدود 7.44% افزایش میابد.\n",
        "\n",
        "با هر سال افزایش سن احتمال دیابت حدود 17.26% افزایش میابد.\n",
        "\n"
      ],
      "metadata": {
        "id": "GxhR3WJHBWOz"
      }
    },
    {
      "cell_type": "markdown",
      "source": [
        "## توزیع فراوانی سیگاری ها"
      ],
      "metadata": {
        "id": "PhIPDwyf8RWL"
      }
    },
    {
      "cell_type": "code",
      "source": [
        "smoking_title = 'Distribution of smoking'\n",
        "plot_pie_chart_from_column(df, 'Smoker', title=smoking_title)"
      ],
      "metadata": {
        "id": "bUnQLp3c8Wvi"
      },
      "execution_count": null,
      "outputs": []
    },
    {
      "cell_type": "markdown",
      "source": [
        "تعداد افراد دیابتی بین افراد سیگاری بیشتر از افرادی دیابتی ای است که سیگار نمیکشند.\n"
      ],
      "metadata": {
        "id": "7bCjM-ft8b6W"
      }
    },
    {
      "cell_type": "markdown",
      "source": [
        "##  رابطه ی بین افراد سیگاری و  وضعیت سلامت عمومی انها"
      ],
      "metadata": {
        "id": "o2OhgtVO8f09"
      }
    },
    {
      "cell_type": "code",
      "source": [
        "smoker_contingency_table = pd.crosstab(df['Smoker'], df['GenHlth'])\n",
        "\n",
        "chi2, p, dof, ex = chi2_contingency(smoker_contingency_table)\n",
        "print(f'Chi-Square Statistic: {chi2}, P-Value: {p}')"
      ],
      "metadata": {
        "id": "rtEGrBR-8got"
      },
      "execution_count": null,
      "outputs": []
    },
    {
      "cell_type": "code",
      "source": [
        "sns.heatmap(smoker_contingency_table, annot=True, fmt='d', cmap='Blues', cbar=True, square=True)\n"
      ],
      "metadata": {
        "id": "Xylr2Dnu8kGs"
      },
      "execution_count": null,
      "outputs": []
    },
    {
      "cell_type": "markdown",
      "source": [
        "افراد سیگاری سلامت عمومی کمتری نسبت به افرادی که سیگار نمیکشند دارند.\n",
        "\n",
        "افرادی که سیگار نمیکشند سلامت عمومی خیلی بهتری نسبت به سیگاری ها دارند."
      ],
      "metadata": {
        "id": "Db-bvcG_8l3X"
      }
    },
    {
      "cell_type": "markdown",
      "source": [
        "## سیگار و دیابت"
      ],
      "metadata": {
        "id": "ckDhiD2Z8um2"
      }
    },
    {
      "cell_type": "code",
      "source": [
        "analyze_condition_vs_diabetes(df, 'Smoker')\n",
        "smoker_diabetes_contingency_table = pd.crosstab([df['diabetes'], df['GenHlth']], df['Smoker'])\n",
        "\n",
        "chi2_stat, p_val, dof, expected = chi2_contingency(smoker_diabetes_contingency_table)\n",
        "print(f\"Chi-Square Statistic: {chi2_stat}, P-Value: {p_val}\")\n",
        "\n",
        "sns.heatmap(smoker_diabetes_contingency_table, annot=True, cmap='Blues', fmt='d')\n",
        "\n"
      ],
      "metadata": {
        "id": "xwLCuY6E8Z7A"
      },
      "execution_count": null,
      "outputs": []
    },
    {
      "cell_type": "markdown",
      "source": [
        "تعداد افراد سیگاری که دیابت دارند سلامت عمومی کمتری نسبت به افراد دیابتی که سیگار نمیکشند دارند.\n"
      ],
      "metadata": {
        "id": "v-gbO1iC83FS"
      }
    },
    {
      "cell_type": "markdown",
      "source": [
        "## سکته"
      ],
      "metadata": {
        "id": "t2XBfcTL84ZG"
      }
    },
    {
      "cell_type": "code",
      "source": [
        "stroke_title = 'Distribution of stroke'\n",
        "plot_pie_chart_from_column(df, 'Stroke', title=stroke_title)\n",
        "# 0 = no\n",
        "# 1 = yes"
      ],
      "metadata": {
        "id": "noh3B3Ul85-E"
      },
      "execution_count": null,
      "outputs": []
    },
    {
      "cell_type": "code",
      "source": [
        "analyze_condition_vs_diabetes(df, 'Stroke')"
      ],
      "metadata": {
        "id": "9mm4Uc6J89Lo"
      },
      "execution_count": null,
      "outputs": []
    },
    {
      "cell_type": "markdown",
      "source": [
        "## دیابت و سکته"
      ],
      "metadata": {
        "id": "41Q1Wxvs9AWH"
      }
    },
    {
      "cell_type": "code",
      "source": [
        "stroke_diabetes_crosstab = pd.crosstab(df['Stroke'], df['diabetes'])\n",
        "\n",
        "sns.heatmap(stroke_diabetes_crosstab, annot=True, cmap='Blues', fmt='d')\n"
      ],
      "metadata": {
        "id": "wm4F85su8_eJ"
      },
      "execution_count": null,
      "outputs": []
    },
    {
      "cell_type": "markdown",
      "source": [
        "\n",
        " تقریبا ۳ درصد افرادی که سکته کرده اند دیابت نداشتند.\n",
        "\n",
        " حدودا ۶ درصد افرادی که سکته کرده اند پیش دیابتی بودند.\n",
        "\n",
        " حدودا ۹ درصد افرادی که سکته کردند دیابتی بودند.\n",
        "\n",
        " افرادی که سابقه سکته دارند، بیشتر از افراد بدون سابقه سکته مستعد ابتلا به دیابت هستند."
      ],
      "metadata": {
        "id": "hyiJxXgE9EQN"
      }
    },
    {
      "cell_type": "markdown",
      "source": [
        "## بیماری قلبی یا حمله قلبی"
      ],
      "metadata": {
        "id": "Q2BZYUQg9Mrf"
      }
    },
    {
      "cell_type": "code",
      "source": [
        "heart_disease_title = 'Distribution of heart disease'\n",
        "plot_pie_chart_from_column(df, 'HeartDiseaseorAttack', title=heart_disease_title)\n",
        "# 0 = no\n",
        "# 1 = yes\n",
        "\n",
        "analyze_condition_vs_diabetes(df, 'HeartDiseaseorAttack')"
      ],
      "metadata": {
        "id": "P9tKe6O49O8C"
      },
      "execution_count": null,
      "outputs": []
    },
    {
      "cell_type": "markdown",
      "source": [
        "## بیماری قلبی و دیابت"
      ],
      "metadata": {
        "id": "ZbK-ksGG9R25"
      }
    },
    {
      "cell_type": "code",
      "source": [
        "heart_disease_diabetes_crosstab = pd.crosstab(df['HeartDiseaseorAttack'], df['diabetes'])\n",
        "print(heart_disease_diabetes_crosstab)\n",
        "sns.heatmap(heart_disease_diabetes_crosstab, annot=True, cmap='Blues', fmt='d')\n"
      ],
      "metadata": {
        "id": "njd6D0lt9Rci"
      },
      "execution_count": null,
      "outputs": []
    },
    {
      "cell_type": "code",
      "source": [
        "df['HeartDiseaseorAttack'].corr(df['diabetes'])"
      ],
      "metadata": {
        "id": "PJHNQ75L9ZGC"
      },
      "execution_count": null,
      "outputs": []
    },
    {
      "cell_type": "markdown",
      "source": [
        "بین بیماران قلبی:\n",
        "\n",
        "حدود ۶۴ در صد دیابت ندارند\n",
        "\n",
        "حدود ۳ درصد پیش دیابت دارند\n",
        "\n",
        "حدود ۳۳ درصد دیابت دارند.\n",
        "\n",
        "\n",
        "بین افرادی که بیماری قلبی ندارند:\n",
        "\n",
        "حدود ۸۶ درصد دیابت ندارند.\n",
        "\n",
        "حدود ۲ درصد پیش دیابت دارند\n",
        "\n",
        "حدود ۱۴ درصد دیابت دارند.\n",
        "\n",
        "افرادی که بیماری قلبی دارند، بیشتر مستعد ابتلا به دیابت هستند.\n",
        " درصد افراد دیابتی در میان کسانی که دارای بیماری قلبی هستند، تقریباً دو برابر افراد دیابتی است که بیماری قلبی ندارند."
      ],
      "metadata": {
        "id": "07WrF1a29a-k"
      }
    },
    {
      "cell_type": "markdown",
      "source": [
        "## ساخت جدول تلاقی برای سکته مغزی، بیماری قلبی، و دیابت\n"
      ],
      "metadata": {
        "id": "t9GX4JGs9eI_"
      }
    },
    {
      "cell_type": "code",
      "source": [
        "stroke_heart_diabetes = pd.crosstab(index=[df['Stroke'], df['HeartDiseaseorAttack']], columns=df['diabetes'])\n",
        "print(stroke_heart_diabetes)\n",
        "\n",
        "chi2_stroke, p_stroke, dof_stroke, ex_stroke = chi2_contingency(pd.crosstab(df['Stroke'], df['diabetes']))\n",
        "print(f\"Chi-square Stroke and Diabetes: {chi2_stroke}, P-value: {p_stroke}\")\n",
        "\n",
        "chi2_heart, p_heart, dof_heart, ex_heart = chi2_contingency(pd.crosstab(df['HeartDiseaseorAttack'], df['diabetes']))\n",
        "print(f\"Chi-square Heart Disease and Diabetes: {chi2_heart}, P-value: {p_heart}\")\n",
        "\n",
        "chi2_combined, p_combined, dof_combined, ex_combined = chi2_contingency(pd.crosstab([df['Stroke'], df['HeartDiseaseorAttack']], df['diabetes']))\n",
        "print(f\"Chi-square Combined Stroke, Heart Disease and Diabetes: {chi2_combined}, P-value: {p_combined}\")\n",
        "\n"
      ],
      "metadata": {
        "id": "qa6O1A5k9e6j"
      },
      "execution_count": null,
      "outputs": []
    },
    {
      "cell_type": "markdown",
      "source": [
        "هر دو فاکتور سکته و بیماری قلبی به‌طور جداگانه و ترکیبی تأثیر قابل توجهی بر دیابت دارند و نمی‌توان روابط آنها را تصادفی در نظر گرفت."
      ],
      "metadata": {
        "id": "x9qXHoHH9jy5"
      }
    },
    {
      "cell_type": "markdown",
      "source": [
        "## مصرف میوه‌ها و سبزیجات"
      ],
      "metadata": {
        "id": "otzm2L1L9nqS"
      }
    },
    {
      "cell_type": "code",
      "source": [
        "fruits_veggies = ['Fruits', 'Veggies']\n",
        "[plot_pie_chart_from_column(df, column, title=f'Distribution of {column}') for column in fruits_veggies]\n"
      ],
      "metadata": {
        "id": "BO4jG0od9qcn"
      },
      "execution_count": null,
      "outputs": []
    },
    {
      "cell_type": "markdown",
      "source": [
        "## مصرف میوه‌ها و سبزیجات و دیابت"
      ],
      "metadata": {
        "id": "-07PwNSv9y-5"
      }
    },
    {
      "cell_type": "code",
      "source": [
        "[analyze_condition_vs_diabetes(df, column) for column in fruits_veggies]\n"
      ],
      "metadata": {
        "id": "T3x38BML9tNi"
      },
      "execution_count": null,
      "outputs": []
    },
    {
      "cell_type": "markdown",
      "source": [
        "همبستگی معکوس ضعیفی بین مصرف سبزیجات و میوه با دیابت وجود دارد.\n",
        " تعداد افراد دیابتی بین افرادی که\n",
        "روزانه یک یا بیشتر از یکبار میوه و سبزیجات مصرف نمیکنند بیشتر از افرادی است که مصرف میکنند."
      ],
      "metadata": {
        "id": "yDyU4GwK92aD"
      }
    },
    {
      "cell_type": "markdown",
      "source": [
        "## مصرف الکل سنگین\n"
      ],
      "metadata": {
        "id": "z0D7cUxH95kT"
      }
    },
    {
      "cell_type": "code",
      "source": [
        "plot_pie_chart_from_column(df, 'HvyAlcoholConsump', title='Distribution of heavy alcohol consumption ')\n",
        "analyze_condition_vs_diabetes(df, 'HvyAlcoholConsump')"
      ],
      "metadata": {
        "id": "_WbmjHKw93Jl"
      },
      "execution_count": null,
      "outputs": []
    },
    {
      "cell_type": "code",
      "source": [
        "df['HvyAlcoholConsump'].corr(df['diabetes'])"
      ],
      "metadata": {
        "id": "Hk8Rja5T99By"
      },
      "execution_count": null,
      "outputs": []
    },
    {
      "cell_type": "code",
      "source": [
        "HvyAlcoholConsump_crosstab = pd.crosstab(df['HvyAlcoholConsump'], df['diabetes'])\n",
        "print(HvyAlcoholConsump_crosstab)"
      ],
      "metadata": {
        "id": "aO5oSxn09_Kp"
      },
      "execution_count": null,
      "outputs": []
    },
    {
      "cell_type": "code",
      "source": [
        "df['HvyAlcoholConsump'].corr(df['BMI'])"
      ],
      "metadata": {
        "colab": {
          "base_uri": "https://localhost:8080/"
        },
        "id": "6ptjneulqMVL",
        "outputId": "bd4fec5a-f7bb-40eb-86cc-47c999a4bac1"
      },
      "execution_count": null,
      "outputs": [
        {
          "output_type": "execute_result",
          "data": {
            "text/plain": [
              "-0.058334009406632706"
            ]
          },
          "metadata": {},
          "execution_count": 85
        },
        {
          "output_type": "execute_result",
          "data": {
            "text/plain": [
              "-0.058334009406632706"
            ]
          },
          "metadata": {},
          "execution_count": 86
        }
      ]
    },
    {
      "cell_type": "code",
      "source": [
        "sns.boxplot(df, x='BMI', hue='HvyAlcoholConsump')"
      ],
      "metadata": {
        "colab": {
          "base_uri": "https://localhost:8080/",
          "height": 480
        },
        "id": "H2h47E5vqXyq",
        "outputId": "1ed8f757-3558-40b9-9f52-94a7234d1437"
      },
      "execution_count": null,
      "outputs": [
        {
          "output_type": "execute_result",
          "data": {
            "text/plain": [
              "<Axes: xlabel='BMI'>"
            ]
          },
          "metadata": {},
          "execution_count": 87
        },
        {
          "output_type": "display_data",
          "data": {
            "text/plain": [
              "<Figure size 640x480 with 1 Axes>"
            ],
            "image/png": "[encoded data removed]"
          },
          "metadata": {}
        }
      ]
    },
    {
      "cell_type": "markdown",
      "source": [
        "نوشیدن الکل رابطه ی تاثیرگذاری با دیابت ندارد."
      ],
      "metadata": {
        "id": "wFodihUn-EV0"
      }
    },
    {
      "cell_type": "markdown",
      "source": [
        "## مصرف الکل و سیگار"
      ],
      "metadata": {
        "id": "MiHa-U-l-Ggs"
      }
    },
    {
      "cell_type": "code",
      "source": [
        "crosstab = pd.crosstab(\n",
        "    index=[df['HvyAlcoholConsump'], df['Smoker']],\n",
        "    columns=df['diabetes'],\n",
        "    margins=True,\n",
        "    margins_name='Total'\n",
        ")\n",
        "\n",
        "print(crosstab)\n"
      ],
      "metadata": {
        "id": "PcA7LaBU-JcF"
      },
      "execution_count": null,
      "outputs": []
    },
    {
      "cell_type": "markdown",
      "source": [
        "سیگار کشیدن و مصرف الکل زیاد میتواند کمی احتمال ابتلا به دیابت را افزایش دهد."
      ],
      "metadata": {
        "id": "_16-AVff-Ooq"
      }
    },
    {
      "cell_type": "markdown",
      "source": [
        "##  سلامت عمومی\n"
      ],
      "metadata": {
        "id": "F8P1qhcy-Q_0"
      }
    },
    {
      "cell_type": "markdown",
      "source": [
        "Would you say that in general your health is: scale 1-5 1 = excellent 2 = very good 3 = good 4 = fair 5 = poor\n"
      ],
      "metadata": {
        "id": "2Kw9TH2o-Vad"
      }
    },
    {
      "cell_type": "code",
      "source": [
        "countplot(df, 'GenHlth')"
      ],
      "metadata": {
        "id": "bevBdxsz-ThW"
      },
      "execution_count": null,
      "outputs": []
    },
    {
      "cell_type": "markdown",
      "source": [
        "## سلامت عمومی و دیابت"
      ],
      "metadata": {
        "id": "elFBxpzE-aK8"
      }
    },
    {
      "cell_type": "code",
      "source": [
        "plot_diabetes_in_numerical(df, 'GenHlth')\n",
        "# normalize=True"
      ],
      "metadata": {
        "id": "RqMuH6TS-ZAG"
      },
      "execution_count": null,
      "outputs": []
    },
    {
      "cell_type": "code",
      "source": [
        "genhlth_diabetes = pd.crosstab(index=df['GenHlth'], columns=df['diabetes'], margins=True)\n",
        "print(genhlth_diabetes)"
      ],
      "metadata": {
        "id": "oqYiYYV6-f9A"
      },
      "execution_count": null,
      "outputs": []
    },
    {
      "cell_type": "markdown",
      "source": [
        "## فعالیت فیزیکی و سلامت عمومی"
      ],
      "metadata": {
        "id": "ea79uDguBx1y"
      }
    },
    {
      "cell_type": "code",
      "source": [
        "\n",
        "sns.boxplot(x='PhysActivity', y='GenHlth', data=df)\n",
        "\n",
        "high_activity_health = df[df['PhysActivity'] == 1]['GenHlth']\n",
        "low_activity_health = df[df['PhysActivity'] == 0]['GenHlth']\n",
        "\n",
        "print('وضعیت سلامت برای افراد با فعالیت فیزیکی بالا:')\n",
        "print(high_activity_health.describe())\n",
        "\n",
        "print('وضعیت سلامت برای افراد با فعالیت فیزیکی پایین:')\n",
        "print(low_activity_health.describe())\n",
        "\n",
        "\n",
        "stat, p_value = stats.mannwhitneyu(high_activity_health, low_activity_health)\n",
        "\n",
        "print(f'Mann-Whitney U Statistic: {stat}, p-value: {p_value}')\n",
        "\n",
        "\n",
        "# 5. تفسیر نتایج\n",
        "alpha = 0.05  # سطح معنی‌داری\n",
        "if p_value < alpha:\n",
        "    print(\"نتیجه معنادار است: افرادی که فعالیت فیزیکی بالا دارند، وضعیت سلامت بهتری دارند.\")\n",
        "else:\n",
        "    print(\"نتیجه معنادار نیست: تفاوت معناداری بین دو گروه وجود ندارد.\")\n"
      ],
      "metadata": {
        "id": "laG68DsMBycy"
      },
      "execution_count": null,
      "outputs": []
    },
    {
      "cell_type": "markdown",
      "source": [
        "هرچه وضعیت سلامتی عمومی کاهش پیدا میکند تعداد افراد دیابتی هم بیشتر میشود.\n",
        "این نشان دهنده ی این است که سلامت عمومی افراد دیابتی خوب نیست."
      ],
      "metadata": {
        "id": "kaPHjQbK-iy_"
      }
    },
    {
      "cell_type": "markdown",
      "source": [
        "## سلامت روانی و فیزیکی"
      ],
      "metadata": {
        "id": "-ZJG_M1P-jee"
      }
    },
    {
      "cell_type": "markdown",
      "source": [
        "Now thinking about your physical health, which includes physical illness and injury, for how many days during the past 30 days was your physical health not good? scale 1-30 days\n",
        "\n",
        "Now thinking about your mental health, which includes stress, depression, and problems with emotions, for how many days during the past 30 days was your mental health not good? scale 1-30 days"
      ],
      "metadata": {
        "id": "c9VYaaSF-nU1"
      }
    },
    {
      "cell_type": "code",
      "source": [
        "ment_phys_list = ['MentHlth', 'PhysHlth']\n",
        "[plot_diabetes_in_numerical(df, column) for column in ment_phys_list]\n"
      ],
      "metadata": {
        "id": "Ln0uB6-R-rnR"
      },
      "execution_count": null,
      "outputs": []
    },
    {
      "cell_type": "markdown",
      "source": [
        "## سلامت روانی و فیزیکی و دیابت"
      ],
      "metadata": {
        "id": "zaREqVyI-3Ni"
      }
    },
    {
      "cell_type": "code",
      "source": [
        "sns.boxplot(df, x='PhysHlth', hue='diabetes')"
      ],
      "metadata": {
        "id": "nhGCHs4O-6j4"
      },
      "execution_count": null,
      "outputs": []
    },
    {
      "cell_type": "code",
      "source": [
        "sns.boxplot(df, x='MentHlth', hue='diabetes')"
      ],
      "metadata": {
        "id": "2uRqjfTx-9JN"
      },
      "execution_count": null,
      "outputs": []
    },
    {
      "cell_type": "code",
      "source": [
        "diabetes_phys_mean = df.groupby('diabetes')['PhysHlth'].mean().round()\n",
        "diabetes_ment_mean = df.groupby('diabetes')['MentHlth'].mean().round()\n",
        "\n",
        "diabetes_phys_mean, diabetes_ment_mean\n"
      ],
      "metadata": {
        "id": "K2hj4Vuk-xJg"
      },
      "execution_count": null,
      "outputs": []
    },
    {
      "cell_type": "markdown",
      "source": [
        "افراد دیابتی تعداد روز های بیشتری دچار مشکلات سلامتی جسمی میشوند.\n",
        "\n",
        "افرادی که دیابت ندارند بطور میانگین روزهای کمتری درگیر مشکلات روان هستند."
      ],
      "metadata": {
        "id": "sdoGrXNg_AP2"
      }
    },
    {
      "cell_type": "markdown",
      "source": [
        "## سلامت روانی و فیزیکی و وضعیت سلامت عمومی"
      ],
      "metadata": {
        "id": "7PcgwEVZ_BFB"
      }
    },
    {
      "cell_type": "code",
      "source": [
        "sns.boxplot(df, x='PhysHlth', hue='GenHlth')"
      ],
      "metadata": {
        "id": "oFUoTJtz_FYc"
      },
      "execution_count": null,
      "outputs": []
    },
    {
      "cell_type": "code",
      "source": [
        "sns.boxplot(df, x='MentHlth', hue='GenHlth')"
      ],
      "metadata": {
        "id": "7UnK8DYe_HLQ"
      },
      "execution_count": null,
      "outputs": []
    },
    {
      "cell_type": "markdown",
      "source": [
        "هرچه وضعیت سلامت عمومی بدتر میشود تعداد روزهای درگیر با مشکلات روان هم بیشتر میشود.\n",
        "افرادی که سلامت عمومی عالی ای دارند\n",
        "روزهای بسیار کمتری درگیر مشکلات روحی میشوند."
      ],
      "metadata": {
        "id": "HugEUqwZ_K-p"
      }
    },
    {
      "cell_type": "markdown",
      "source": [
        "## سلامت روانی و فعالیت فیزیکی"
      ],
      "metadata": {
        "id": "FxOLC5tF_ONK"
      }
    },
    {
      "cell_type": "code",
      "source": [
        "sns.boxplot(df, x='MentHlth', hue='PhysActivity')"
      ],
      "metadata": {
        "id": "cInlJaJz_O8V"
      },
      "execution_count": null,
      "outputs": []
    },
    {
      "cell_type": "markdown",
      "source": [
        "تعداد روزهایی که افرادی که فعالیت فیزیکی دارند درگیر مشکلات روان هستند تقریبا نصف افرادیست که فعالیت فیزیکی ندارند."
      ],
      "metadata": {
        "id": "3WGgut2g_TW0"
      }
    },
    {
      "cell_type": "markdown",
      "source": [
        "## سلامت روانی و فعالیت فیزیکی و دیابت"
      ],
      "metadata": {
        "id": "vhZ2Hhve_Vnb"
      }
    },
    {
      "cell_type": "code",
      "source": [
        "sns.boxplot(df, x='MentHlth', y='PhysActivity', hue='diabetes')\n",
        "plt.legend(loc='lower right')"
      ],
      "metadata": {
        "id": "0H3o3VLP_WKU"
      },
      "execution_count": null,
      "outputs": []
    },
    {
      "cell_type": "code",
      "source": [
        "X = df[['MentHlth', 'PhysActivity']]\n",
        "y = df['diabetes']\n",
        "\n",
        "X = sm.add_constant(X)\n",
        "\n",
        "model = sm.OLS(y, X).fit()\n",
        "\n",
        "print(model.summary())"
      ],
      "metadata": {
        "id": "jsYPf5f4_aUN"
      },
      "execution_count": null,
      "outputs": []
    },
    {
      "cell_type": "markdown",
      "source": [
        "سلامت روانی ضعیف به طور معناداری به وضعیت سلامت عمومی بدتر (بر اساس ضریب سلامت روانی) و احتمال افزایش دیابت مرتبطه. همچنین، فعالیت فیزیکی به طور معناداری با کاهش احتمال دیابت مرتبطه.\n",
        "\n",
        "فعالیت فیزیکی میتواند روزهای درگیر مشکلات روحی را در افراد دیابتی کم کند.\n"
      ],
      "metadata": {
        "id": "O2owkoAt_eXq"
      }
    },
    {
      "cell_type": "markdown",
      "source": [
        "## مشکل در راه رفتن"
      ],
      "metadata": {
        "id": "0JIQgO1x_fae"
      }
    },
    {
      "cell_type": "code",
      "source": [
        "diff_walk_title = f'Distribution of difficulty in walking'\n",
        "plot_pie_chart_from_column(df, 'DiffWalk', title=diff_walk_title)"
      ],
      "metadata": {
        "id": "WY2FVa5L_jZs"
      },
      "execution_count": null,
      "outputs": []
    },
    {
      "cell_type": "markdown",
      "source": [
        "## مشکل در راه رفتن و دیابت"
      ],
      "metadata": {
        "id": "aUeFN-x8_nX3"
      }
    },
    {
      "cell_type": "code",
      "source": [
        "analyze_condition_vs_diabetes(df, 'DiffWalk')"
      ],
      "metadata": {
        "id": "Z2eckf5h_n6F"
      },
      "execution_count": null,
      "outputs": []
    },
    {
      "cell_type": "code",
      "source": [
        "diffWalk_contingency_table = pd.crosstab(df['DiffWalk'], df['diabetes'])\n",
        "chi2, p, dof, expected = stats.chi2_contingency(diffWalk_contingency_table)\n",
        "\n",
        "print('Chi-square:', chi2)\n",
        "print('p-value:', p)\n",
        "print('Degrees of freedom:', dof)\n",
        "print('Expected frequencies:', expected)"
      ],
      "metadata": {
        "id": "wxVnufzi_rgC"
      },
      "execution_count": null,
      "outputs": []
    },
    {
      "cell_type": "markdown",
      "source": [
        "مشکل در راه رفتن با وضعیت دیابت ارتباط مستقیم داره و این ارتباط تصادفی نیست.\n",
        "تعداد افراد دیابتی که مشکل در راه\n",
        "رفتن دارند بیشتر از ۲ برابر دیابتی هایی است که مشکلی ندارند.\n",
        "\n",
        "همچنین, چون فعالیت فیزیکی کمتر با میزان ابتلا به دیابت رابطه ی مستقیم دارد, احتمال دارد افرادی که مشکل در راه رفتن دارند به دلیل محدودیت فعالیت فیزیکی، بیشتر مستعد دیابت باشند.\n"
      ],
      "metadata": {
        "id": "vcIjttbK_tXq"
      }
    },
    {
      "cell_type": "markdown",
      "source": [
        "## **رابطه ی بین دیابت و درامد و تحصیلات**"
      ],
      "metadata": {
        "id": "yroltR0nA1-6"
      }
    },
    {
      "cell_type": "code",
      "source": [
        "social_status = ['Income', 'Education']\n",
        "for column in social_status:\n",
        "  plot_diabetes_in_numerical(df, column)"
      ],
      "metadata": {
        "id": "D0HlMCU-A5SA"
      },
      "execution_count": null,
      "outputs": []
    },
    {
      "cell_type": "code",
      "source": [
        "social_status_corr_list = ['Income', 'Education', 'diabetes']\n",
        "\n",
        "corr_social_status = df[social_status_corr_list].corr()\n",
        "print(corr_social_status)\n",
        "sns.heatmap(corr_social_status, annot=True)"
      ],
      "metadata": {
        "id": "enE6te6DA9Yt"
      },
      "execution_count": null,
      "outputs": []
    },
    {
      "cell_type": "markdown",
      "source": [
        "همبستگی مستقیم متوسطی بین درامد بالا و تحصیلات بالا وجود دارد.\n",
        "یعنی به احتمال متوسطی تحصیلات بالاتر درامد بالاتری نیز خواهد داشت.\n",
        "همبستگی معکوس ضعیفی بین دیابت و درامد و تحصیلات وجود دارد. یعنی با بیشتر شدن درامد و تحصیلات احتمال دیابت کمی کمتر میشود."
      ],
      "metadata": {
        "id": "QbWKv1QKA_oq"
      }
    },
    {
      "cell_type": "markdown",
      "source": [
        "## heatmap"
      ],
      "metadata": {
        "id": "F8gMoUZMyAo1"
      }
    },
    {
      "cell_type": "code",
      "source": [
        "correlation_full_health = df.corr()\n",
        "\n",
        "axis_corr = sns.heatmap(\n",
        "correlation_full_health,\n",
        "vmin=-1, vmax=1, center=0,\n",
        "cmap=sns.diverging_palette(50, 500, n=500),\n",
        "square=True\n",
        ")\n",
        "\n",
        "plt.show()"
      ],
      "metadata": {
        "id": "5v0SE0hwxmBs"
      },
      "execution_count": null,
      "outputs": []
    },
    {
      "cell_type": "markdown",
      "source": [
        "## pairplot"
      ],
      "metadata": {
        "id": "ADEOsUFRyc4x"
      }
    },
    {
      "cell_type": "code",
      "source": [
        "sns.pairplot(df.sample(1000))"
      ],
      "metadata": {
        "id": "unyy9BwoygPk"
      },
      "execution_count": null,
      "outputs": []
    },
    {
      "cell_type": "markdown",
      "source": [
        "## **مدل اماری**"
      ],
      "metadata": {
        "id": "zsDgPaQFDJUD"
      }
    },
    {
      "cell_type": "code",
      "source": [
        "from imblearn.over_sampling import SMOTE\n",
        "from sklearn.ensemble import RandomForestClassifier\n",
        "from sklearn.model_selection import train_test_split\n",
        "from sklearn.metrics import classification_report, confusion_matrix\n",
        "\n",
        "X = df[['BMI', 'PhysActivity', 'HighBP', 'HighChol',\n",
        "        'Age', 'Smoker', 'Stroke', 'HeartDiseaseorAttack',\n",
        "        'Sex', 'PhysHlth', 'MentHlth', 'Income', 'Education',\n",
        "        'HvyAlcoholConsump', 'Veggies', 'Fruits', 'DiffWalk']]\n",
        "y = df['diabetes']\n",
        "\n",
        "smote = SMOTE(random_state=42)\n",
        "X_resampled, y_resampled = smote.fit_resample(X, y)\n",
        "\n",
        "X_train, X_test, y_train, y_test = train_test_split(X_resampled, y_resampled, test_size=0.3, random_state=42)\n",
        "\n",
        "model = RandomForestClassifier(n_estimators=100, random_state=42)\n",
        "model.fit(X_train, y_train)\n",
        "\n",
        "y_pred = model.predict(X_test)\n",
        "\n",
        "conf_matrix = confusion_matrix(y_test, y_pred)\n",
        "print(\"Confusion Matrix:\")\n",
        "print(conf_matrix)\n",
        "\n",
        "print(\"Classification Report:\")\n",
        "print(classification_report(y_test, y_pred))\n"
      ],
      "metadata": {
        "colab": {
          "base_uri": "https://localhost:8080/"
        },
        "id": "KLmuUm5ADMhh",
        "outputId": "81460eaf-073f-4311-b972-054ed7018361"
      },
      "execution_count": null,
      "outputs": [
        {
          "output_type": "stream",
          "name": "stdout",
          "text": [
            "Confusion Matrix:\n",
            "[[54104   131  2573]\n",
            " [ 1283 55658   424]\n",
            " [ 8612   982 47283]]\n",
            "Classification Report:\n",
            "              precision    recall  f1-score   support\n",
            "\n",
            "         0.0       0.85      0.95      0.90     56808\n",
            "         1.0       0.98      0.97      0.98     57365\n",
            "         2.0       0.94      0.83      0.88     56877\n",
            "\n",
            "    accuracy                           0.92    171050\n",
            "   macro avg       0.92      0.92      0.92    171050\n",
            "weighted avg       0.92      0.92      0.92    171050\n",
            "\n"
          ]
        }
      ]
    },
    {
      "cell_type": "code",
      "source": [
        "\n",
        "\n",
        "X = df[['BMI', 'PhysActivity', 'HighBP', 'HighChol',\n",
        "        'Age', 'Smoker', 'Stroke', 'HeartDiseaseorAttack',\n",
        "        'Sex', 'PhysHlth', 'MentHlth', 'Income', 'Education',\n",
        "        'HvyAlcoholConsump', 'Veggies', 'Fruits', 'DiffWalk']]\n",
        "y = df['diabetes']\n",
        "# استفاده از ترکیب SMOTE و undersampling\n",
        "smote_enn = SMOTEENN(random_state=42)\n",
        "X_resampled, y_resampled = smote_enn.fit_resample(X, y)\n",
        "\n",
        "X_train, X_test, y_train, y_test = train_test_split(X_resampled, y_resampled, test_size=0.3, random_state=42)\n",
        "\n",
        "model = RandomForestClassifier(n_estimators=50, random_state=42)\n",
        "model.fit(X_train, y_train)\n",
        "\n",
        "y_pred = model.predict(X_test)\n",
        "\n",
        "conf_matrix = confusion_matrix(y_test, y_pred)\n",
        "print(\"Confusion Matrix:\")\n",
        "print(conf_matrix)\n",
        "\n",
        "print(\"Classification Report:\")\n",
        "print(classification_report(y_test, y_pred))\n"
      ],
      "metadata": {
        "colab": {
          "base_uri": "https://localhost:8080/"
        },
        "id": "tBwh-0k1G8xH",
        "outputId": "2167549b-44de-4d9f-ac92-79ffc1686a6f"
      },
      "execution_count": null,
      "outputs": [
        {
          "output_type": "stream",
          "name": "stdout",
          "text": [
            "Confusion Matrix:\n",
            "[[26652    14  1548]\n",
            " [  585 54235   869]\n",
            " [ 2429  1135 46961]]\n",
            "Classification Report:\n",
            "              precision    recall  f1-score   support\n",
            "\n",
            "         0.0       0.90      0.94      0.92     28214\n",
            "         1.0       0.98      0.97      0.98     55689\n",
            "         2.0       0.95      0.93      0.94     50525\n",
            "\n",
            "    accuracy                           0.95    134428\n",
            "   macro avg       0.94      0.95      0.95    134428\n",
            "weighted avg       0.95      0.95      0.95    134428\n",
            "\n"
          ]
        }
      ]
    },
    {
      "cell_type": "markdown",
      "source": [
        " مدل جنگل تصادفی با دقت کلی 0.95 توانست به درستی وضعیت دیابت را پیش‌بینی کند\n",
        "\n",
        " دقت و فراخوانی بالا در همه کلاس‌ها نشان‌دهنده این است که مدل قادر به پیش‌بینی دقیق وضعیت دیابت است.\n",
        "\n",
        " ترکیب\n",
        "\n",
        " SMOTE\n",
        " و\n",
        " undersampling\n",
        "\n",
        "  تأثیر بسیار مثبتی بر روی دقت و فراخوانی مدل داشته است."
      ],
      "metadata": {
        "id": "8OclkLHDXzFq"
      }
    },
    {
      "cell_type": "markdown",
      "source": [
        "**Confusion Matrix**:\n",
        "\n",
        "True Negatives (TN): 26652 - تعداد نمونه‌هایی که به درستی به عنوان غیر دیابتی طبقه‌بندی شده‌اند.\n",
        "\n",
        "False Negatives (FN): 1548 - تعداد نمونه‌هایی که به اشتباه به عنوان غیر دیابتی طبقه‌بندی شده‌اند.\n",
        "\n",
        "True Positives (TP): 54235 - تعداد نمونه‌هایی که به درستی به عنوان پیش‌دیابتی طبقه‌بندی شده‌اند.\n",
        "\n",
        "False Positives (FP): 869 - تعداد نمونه‌هایی که به اشتباه به عنوان پیش‌دیابتی طبقه‌بندی شده‌اند.\n",
        "\n",
        "True Positives (TP): 46961 - تعداد نمونه‌هایی که به درستی به عنوان دیابتی طبقه‌بندی شده‌اند.\n",
        "\n",
        "False Positives (FP): 1135 - تعداد نمونه‌هایی که به اشتباه به عنوان دیابتی طبقه‌بندی شده‌اند.\n",
        "\n",
        "گزارش طبقه‌بندی (Classification Report):\n",
        "\n",
        "دقت کلی (Accuracy): 0.95 - مدل عملکرد بسیار خوبی دارد.\n",
        "\n",
        "دقت (Precision) و فراخوانی (Recall):\n",
        "\n",
        "کلاس 0 (غیر دیابتی):\n",
        "\n",
        "دقت: 0.90\n",
        "\n",
        "فراخوانی: 0.94\n",
        "\n",
        "کلاس 1 (پیش‌دیابتی):\n",
        "\n",
        "دقت: 0.98\n",
        "\n",
        "فراخوانی: 0.97\n",
        "\n",
        "کلاس 2 (دیابتی):\n",
        "\n",
        "دقت: 0.95\n",
        "\n",
        "فراخوانی: 0.93\n",
        "\n"
      ],
      "metadata": {
        "id": "aah9kPNjXlz1"
      }
    },
    {
      "cell_type": "markdown",
      "source": [
        "**عوامل مهم در پیش بینی دیابت**\n",
        "\n",
        "شاخص توده بدنی بالا به شدت با احتمال بیشتر دیابت مرتبط است.\n",
        "\n",
        "کمبود فعالیت فیزیکی میتونه ریسک دیابت رو افزایش بده\n",
        "\n",
        "فشار خون بالا با دیابت ارتباط مستقیم دارد\n",
        "\n",
        "چربی خون بالا یکی از عوامل موثر در افزایش ریسک دیابت است.\n",
        "\n",
        "افزایش سن احتمال ابتلا به دیابت را افزایش میدهد.\n",
        "\n"
      ],
      "metadata": {
        "id": "P8XX9JPJVoNK"
      }
    },
    {
      "cell_type": "markdown",
      "source": [
        "# **توصیه**"
      ],
      "metadata": {
        "id": "rCCN2V1CW4uI"
      }
    },
    {
      "cell_type": "markdown",
      "source": [
        "کنترل وزن و فعالیت فیزیکی منظم می‌تواند به کاهش احتمال ابتلا به دیابت کمک کند.\n",
        "\n",
        "فعالیت فیزیکی با فشارخون و چربی خون و دیابت همبستگی منفی دارد. یعنی احتمال ابتلا به این بیماری هارا کاهش میدهد.\n",
        " و چون ترکیب چربی خون بالا و فشارخون بالا احتمال ابتلا به دیابت را افزایش میدهد فعالیت فیزیکی میتواند احتمال بروز این بیماری هارا کم کند و در نهایت احتمال دیابت نیز کم میشود.\n",
        "[کد](https://colab.research.google.com/drive/129fffUV3AMuIU4yquFlHWBzYXRULHGK6?authuser=1#scrollTo=Nt-uSIG_6DlS)\n",
        "\n",
        "\n",
        "\n",
        "\n",
        "افرادی که\n",
        " حداقل یکبار در روز مصرف میوه و سبزیجات دارند شاخص توده\n",
        "  بدنی پایین تر دارند پس مصرف میوه و سبزیجات توصیه میشود.\n",
        "[میوه و سبزیحات](https://colab.research.google.com/drive/129fffUV3AMuIU4yquFlHWBzYXRULHGK6?authuser=1#scrollTo=-07PwNSv9y-5)\n",
        "\n",
        "[bmi و میوه](https://colab.research.google.com/drive/129fffUV3AMuIU4yquFlHWBzYXRULHGK6?authuser=1#scrollTo=-Pmcmv9Z7X4f)\n",
        "\n",
        "\n",
        "\n",
        " میزان تحصیلات/ درامد و شاخص توده بدنی همبستگی منفی دارند.\n",
        "درآمد بالاتر با کاهش احتمال دیابت مرتبط است.\n",
        "[کد](https://colab.research.google.com/drive/129fffUV3AMuIU4yquFlHWBzYXRULHGK6?authuser=1#scrollTo=yroltR0nA1-6)\n",
        "\n",
        "سلامت روانی ضعیف به طور معناداری به وضعیت سلامت عمومی بدتر (بر اساس ضریب سلامت روانی) و احتمال افزایش دیابت مرتبطه. همچنین، فعالیت فیزیکی به طور معناداری با کاهش احتمال دیابت مرتبطه\n",
        "\n",
        "**فعالیت فیزیکی میتواند تعداد روزهای درگیر مشکلات روحی افراد دیابتی را کمتر کند.**\n",
        "[کد](https://colab.research.google.com/drive/129fffUV3AMuIU4yquFlHWBzYXRULHGK6?authuser=1#scrollTo=vhZ2Hhve_Vnb)\n",
        "\n",
        "\n"
      ],
      "metadata": {
        "id": "HJy3yu9LYoyX"
      }
    },
    {
      "cell_type": "markdown",
      "source": [
        "دیتاست:\n",
        "\n",
        "\n",
        "https://www.kaggle.com/datasets/alexteboul/diabetes-health-indicators-dataset"
      ],
      "metadata": {
        "id": "Gj6qxFsoYyS7"
      }
    }
  ]
}